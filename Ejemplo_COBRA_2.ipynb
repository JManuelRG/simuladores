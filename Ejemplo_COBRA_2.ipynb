{
  "nbformat": 4,
  "nbformat_minor": 0,
  "metadata": {
    "colab": {
      "provenance": [],
      "authorship_tag": "ABX9TyPXo8WN0sznTUbqZIniID6T",
      "include_colab_link": true
    },
    "kernelspec": {
      "name": "python3",
      "display_name": "Python 3"
    },
    "language_info": {
      "name": "python"
    }
  },
  "cells": [
    {
      "cell_type": "markdown",
      "metadata": {
        "id": "view-in-github",
        "colab_type": "text"
      },
      "source": [
        "<a href=\"https://colab.research.google.com/github/JManuelRG/simuladores/blob/main/Ejemplo_COBRA_2.ipynb\" target=\"_parent\"><img src=\"https://colab.research.google.com/assets/colab-badge.svg\" alt=\"Open In Colab\"/></a>"
      ]
    },
    {
      "cell_type": "markdown",
      "source": [
        "# Ejemplo: Optimización de la Producción de Etanol en Escherichia coli\n",
        "\n",
        "# Objetivo:\n",
        "Maximizar la producción de etanol bajo condiciones de restricción de oxígeno, simulando un entorno anaeróbico.\n",
        "\n"
      ],
      "metadata": {
        "id": "WAR8jfmBGJBx"
      }
    },
    {
      "cell_type": "code",
      "source": [
        "!pip install cobra"
      ],
      "metadata": {
        "colab": {
          "base_uri": "https://localhost:8080/"
        },
        "id": "hfEQ6ILmGJzG",
        "outputId": "285e8842-758a-42ca-ad63-b53928f5837d"
      },
      "execution_count": 2,
      "outputs": [
        {
          "output_type": "stream",
          "name": "stdout",
          "text": [
            "Collecting cobra\n",
            "  Downloading cobra-0.29.1-py2.py3-none-any.whl.metadata (9.3 kB)\n",
            "Collecting appdirs~=1.4 (from cobra)\n",
            "  Downloading appdirs-1.4.4-py2.py3-none-any.whl.metadata (9.0 kB)\n",
            "Collecting depinfo~=2.2 (from cobra)\n",
            "  Downloading depinfo-2.2.0-py3-none-any.whl.metadata (3.8 kB)\n",
            "Collecting diskcache~=5.0 (from cobra)\n",
            "  Downloading diskcache-5.6.3-py3-none-any.whl.metadata (20 kB)\n",
            "Requirement already satisfied: future in /usr/local/lib/python3.10/dist-packages (from cobra) (1.0.0)\n",
            "Requirement already satisfied: httpx~=0.24 in /usr/local/lib/python3.10/dist-packages (from cobra) (0.27.2)\n",
            "Requirement already satisfied: importlib-resources in /usr/local/lib/python3.10/dist-packages (from cobra) (6.4.5)\n",
            "Requirement already satisfied: numpy>=1.13 in /usr/local/lib/python3.10/dist-packages (from cobra) (1.26.4)\n",
            "Collecting optlang~=1.8 (from cobra)\n",
            "  Downloading optlang-1.8.2-py2.py3-none-any.whl.metadata (8.1 kB)\n",
            "Requirement already satisfied: pandas<3.0,>=1.0 in /usr/local/lib/python3.10/dist-packages (from cobra) (2.2.2)\n",
            "Requirement already satisfied: pydantic>=1.6 in /usr/local/lib/python3.10/dist-packages (from cobra) (2.9.2)\n",
            "Collecting python-libsbml~=5.19 (from cobra)\n",
            "  Downloading python_libsbml-5.20.4-cp310-cp310-manylinux_2_17_x86_64.manylinux2014_x86_64.whl.metadata (532 bytes)\n",
            "Requirement already satisfied: rich>=8.0 in /usr/local/lib/python3.10/dist-packages (from cobra) (13.9.4)\n",
            "Collecting ruamel.yaml~=0.16 (from cobra)\n",
            "  Downloading ruamel.yaml-0.18.6-py3-none-any.whl.metadata (23 kB)\n",
            "Collecting swiglpk (from cobra)\n",
            "  Downloading swiglpk-5.0.12-cp310-cp310-manylinux_2_17_x86_64.manylinux2014_x86_64.whl.metadata (5.5 kB)\n",
            "Requirement already satisfied: anyio in /usr/local/lib/python3.10/dist-packages (from httpx~=0.24->cobra) (3.7.1)\n",
            "Requirement already satisfied: certifi in /usr/local/lib/python3.10/dist-packages (from httpx~=0.24->cobra) (2024.8.30)\n",
            "Requirement already satisfied: httpcore==1.* in /usr/local/lib/python3.10/dist-packages (from httpx~=0.24->cobra) (1.0.7)\n",
            "Requirement already satisfied: idna in /usr/local/lib/python3.10/dist-packages (from httpx~=0.24->cobra) (3.10)\n",
            "Requirement already satisfied: sniffio in /usr/local/lib/python3.10/dist-packages (from httpx~=0.24->cobra) (1.3.1)\n",
            "Requirement already satisfied: h11<0.15,>=0.13 in /usr/local/lib/python3.10/dist-packages (from httpcore==1.*->httpx~=0.24->cobra) (0.14.0)\n",
            "Requirement already satisfied: sympy>=1.12.0 in /usr/local/lib/python3.10/dist-packages (from optlang~=1.8->cobra) (1.13.1)\n",
            "Requirement already satisfied: python-dateutil>=2.8.2 in /usr/local/lib/python3.10/dist-packages (from pandas<3.0,>=1.0->cobra) (2.8.2)\n",
            "Requirement already satisfied: pytz>=2020.1 in /usr/local/lib/python3.10/dist-packages (from pandas<3.0,>=1.0->cobra) (2024.2)\n",
            "Requirement already satisfied: tzdata>=2022.7 in /usr/local/lib/python3.10/dist-packages (from pandas<3.0,>=1.0->cobra) (2024.2)\n",
            "Requirement already satisfied: annotated-types>=0.6.0 in /usr/local/lib/python3.10/dist-packages (from pydantic>=1.6->cobra) (0.7.0)\n",
            "Requirement already satisfied: pydantic-core==2.23.4 in /usr/local/lib/python3.10/dist-packages (from pydantic>=1.6->cobra) (2.23.4)\n",
            "Requirement already satisfied: typing-extensions>=4.6.1 in /usr/local/lib/python3.10/dist-packages (from pydantic>=1.6->cobra) (4.12.2)\n",
            "Requirement already satisfied: markdown-it-py>=2.2.0 in /usr/local/lib/python3.10/dist-packages (from rich>=8.0->cobra) (3.0.0)\n",
            "Requirement already satisfied: pygments<3.0.0,>=2.13.0 in /usr/local/lib/python3.10/dist-packages (from rich>=8.0->cobra) (2.18.0)\n",
            "Collecting ruamel.yaml.clib>=0.2.7 (from ruamel.yaml~=0.16->cobra)\n",
            "  Downloading ruamel.yaml.clib-0.2.12-cp310-cp310-manylinux_2_17_x86_64.manylinux2014_x86_64.whl.metadata (2.7 kB)\n",
            "Requirement already satisfied: mdurl~=0.1 in /usr/local/lib/python3.10/dist-packages (from markdown-it-py>=2.2.0->rich>=8.0->cobra) (0.1.2)\n",
            "Requirement already satisfied: six>=1.5 in /usr/local/lib/python3.10/dist-packages (from python-dateutil>=2.8.2->pandas<3.0,>=1.0->cobra) (1.16.0)\n",
            "Requirement already satisfied: mpmath<1.4,>=1.1.0 in /usr/local/lib/python3.10/dist-packages (from sympy>=1.12.0->optlang~=1.8->cobra) (1.3.0)\n",
            "Requirement already satisfied: exceptiongroup in /usr/local/lib/python3.10/dist-packages (from anyio->httpx~=0.24->cobra) (1.2.2)\n",
            "Downloading cobra-0.29.1-py2.py3-none-any.whl (1.2 MB)\n",
            "\u001b[2K   \u001b[90m━━━━━━━━━━━━━━━━━━━━━━━━━━━━━━━━━━━━━━━━\u001b[0m \u001b[32m1.2/1.2 MB\u001b[0m \u001b[31m18.4 MB/s\u001b[0m eta \u001b[36m0:00:00\u001b[0m\n",
            "\u001b[?25hDownloading appdirs-1.4.4-py2.py3-none-any.whl (9.6 kB)\n",
            "Downloading depinfo-2.2.0-py3-none-any.whl (24 kB)\n",
            "Downloading diskcache-5.6.3-py3-none-any.whl (45 kB)\n",
            "\u001b[2K   \u001b[90m━━━━━━━━━━━━━━━━━━━━━━━━━━━━━━━━━━━━━━━━\u001b[0m \u001b[32m45.5/45.5 kB\u001b[0m \u001b[31m3.3 MB/s\u001b[0m eta \u001b[36m0:00:00\u001b[0m\n",
            "\u001b[?25hDownloading optlang-1.8.2-py2.py3-none-any.whl (141 kB)\n",
            "\u001b[2K   \u001b[90m━━━━━━━━━━━━━━━━━━━━━━━━━━━━━━━━━━━━━━━━\u001b[0m \u001b[32m141.8/141.8 kB\u001b[0m \u001b[31m10.4 MB/s\u001b[0m eta \u001b[36m0:00:00\u001b[0m\n",
            "\u001b[?25hDownloading python_libsbml-5.20.4-cp310-cp310-manylinux_2_17_x86_64.manylinux2014_x86_64.whl (8.0 MB)\n",
            "\u001b[2K   \u001b[90m━━━━━━━━━━━━━━━━━━━━━━━━━━━━━━━━━━━━━━━━\u001b[0m \u001b[32m8.0/8.0 MB\u001b[0m \u001b[31m52.8 MB/s\u001b[0m eta \u001b[36m0:00:00\u001b[0m\n",
            "\u001b[?25hDownloading ruamel.yaml-0.18.6-py3-none-any.whl (117 kB)\n",
            "\u001b[2K   \u001b[90m━━━━━━━━━━━━━━━━━━━━━━━━━━━━━━━━━━━━━━━━\u001b[0m \u001b[32m117.8/117.8 kB\u001b[0m \u001b[31m9.0 MB/s\u001b[0m eta \u001b[36m0:00:00\u001b[0m\n",
            "\u001b[?25hDownloading swiglpk-5.0.12-cp310-cp310-manylinux_2_17_x86_64.manylinux2014_x86_64.whl (2.3 MB)\n",
            "\u001b[2K   \u001b[90m━━━━━━━━━━━━━━━━━━━━━━━━━━━━━━━━━━━━━━━━\u001b[0m \u001b[32m2.3/2.3 MB\u001b[0m \u001b[31m55.3 MB/s\u001b[0m eta \u001b[36m0:00:00\u001b[0m\n",
            "\u001b[?25hDownloading ruamel.yaml.clib-0.2.12-cp310-cp310-manylinux_2_17_x86_64.manylinux2014_x86_64.whl (722 kB)\n",
            "\u001b[2K   \u001b[90m━━━━━━━━━━━━━━━━━━━━━━━━━━━━━━━━━━━━━━━━\u001b[0m \u001b[32m722.2/722.2 kB\u001b[0m \u001b[31m37.0 MB/s\u001b[0m eta \u001b[36m0:00:00\u001b[0m\n",
            "\u001b[?25hInstalling collected packages: swiglpk, python-libsbml, appdirs, ruamel.yaml.clib, diskcache, depinfo, ruamel.yaml, optlang, cobra\n",
            "Successfully installed appdirs-1.4.4 cobra-0.29.1 depinfo-2.2.0 diskcache-5.6.3 optlang-1.8.2 python-libsbml-5.20.4 ruamel.yaml-0.18.6 ruamel.yaml.clib-0.2.12 swiglpk-5.0.12\n"
          ]
        }
      ]
    },
    {
      "cell_type": "code",
      "source": [
        "# Cargar el modelo metabólico\n",
        "from cobra.io import load_model\n",
        "\n",
        "model = load_model(\"textbook\") #importar modelo de e coli"
      ],
      "metadata": {
        "id": "PSerIpZkGdZl"
      },
      "execution_count": null,
      "outputs": []
    },
    {
      "cell_type": "code",
      "source": [
        "model.summary() #resumen del modelo"
      ],
      "metadata": {
        "colab": {
          "base_uri": "https://localhost:8080/",
          "height": 441
        },
        "id": "8R2bBEpuG3l4",
        "outputId": "5d04eec9-a5ae-4d9a-e091-76c17f7aa7a3"
      },
      "execution_count": null,
      "outputs": [
        {
          "output_type": "execute_result",
          "data": {
            "text/plain": [
              "<cobra.summary.model_summary.ModelSummary at 0x7f3d8ff83010>"
            ],
            "text/html": [
              "<h3>Objective</h3><p>1.0 Biomass_Ecoli_core = 0.8739215069684271</p><h4>Uptake</h4><table border=\"1\" class=\"dataframe\">\n",
              "  <thead>\n",
              "    <tr style=\"text-align: right;\">\n",
              "      <th>Metabolite</th>\n",
              "      <th>Reaction</th>\n",
              "      <th>Flux</th>\n",
              "      <th>C-Number</th>\n",
              "      <th>C-Flux</th>\n",
              "    </tr>\n",
              "  </thead>\n",
              "  <tbody>\n",
              "    <tr>\n",
              "      <td>glc__D_e</td>\n",
              "      <td>EX_glc__D_e</td>\n",
              "      <td>10</td>\n",
              "      <td>6</td>\n",
              "      <td>100.00%</td>\n",
              "    </tr>\n",
              "    <tr>\n",
              "      <td>nh4_e</td>\n",
              "      <td>EX_nh4_e</td>\n",
              "      <td>4.765</td>\n",
              "      <td>0</td>\n",
              "      <td>0.00%</td>\n",
              "    </tr>\n",
              "    <tr>\n",
              "      <td>o2_e</td>\n",
              "      <td>EX_o2_e</td>\n",
              "      <td>21.8</td>\n",
              "      <td>0</td>\n",
              "      <td>0.00%</td>\n",
              "    </tr>\n",
              "    <tr>\n",
              "      <td>pi_e</td>\n",
              "      <td>EX_pi_e</td>\n",
              "      <td>3.215</td>\n",
              "      <td>0</td>\n",
              "      <td>0.00%</td>\n",
              "    </tr>\n",
              "  </tbody>\n",
              "</table><h4>Secretion</h4><table border=\"1\" class=\"dataframe\">\n",
              "  <thead>\n",
              "    <tr style=\"text-align: right;\">\n",
              "      <th>Metabolite</th>\n",
              "      <th>Reaction</th>\n",
              "      <th>Flux</th>\n",
              "      <th>C-Number</th>\n",
              "      <th>C-Flux</th>\n",
              "    </tr>\n",
              "  </thead>\n",
              "  <tbody>\n",
              "    <tr>\n",
              "      <td>co2_e</td>\n",
              "      <td>EX_co2_e</td>\n",
              "      <td>-22.81</td>\n",
              "      <td>1</td>\n",
              "      <td>100.00%</td>\n",
              "    </tr>\n",
              "    <tr>\n",
              "      <td>h2o_e</td>\n",
              "      <td>EX_h2o_e</td>\n",
              "      <td>-29.18</td>\n",
              "      <td>0</td>\n",
              "      <td>0.00%</td>\n",
              "    </tr>\n",
              "    <tr>\n",
              "      <td>h_e</td>\n",
              "      <td>EX_h_e</td>\n",
              "      <td>-17.53</td>\n",
              "      <td>0</td>\n",
              "      <td>0.00%</td>\n",
              "    </tr>\n",
              "  </tbody>\n",
              "</table>"
            ]
          },
          "metadata": {},
          "execution_count": 18
        }
      ]
    },
    {
      "cell_type": "code",
      "source": [
        "model.reactions.get_by_id(\"EX_etoh_e\")"
      ],
      "metadata": {
        "colab": {
          "base_uri": "https://localhost:8080/",
          "height": 201
        },
        "id": "YMfPXO7wTacR",
        "outputId": "23f3a8fd-7243-48ff-90c2-d9d54ceceb02"
      },
      "execution_count": null,
      "outputs": [
        {
          "output_type": "execute_result",
          "data": {
            "text/plain": [
              "<Reaction EX_etoh_e at 0x7f3d90107fa0>"
            ],
            "text/html": [
              "\n",
              "        <table>\n",
              "            <tr>\n",
              "                <td><strong>Reaction identifier</strong></td><td>EX_etoh_e</td>\n",
              "            </tr><tr>\n",
              "                <td><strong>Name</strong></td><td>Ethanol exchange</td>\n",
              "            </tr><tr>\n",
              "                <td><strong>Memory address</strong></td>\n",
              "                <td>0x7f3d90107fa0</td>\n",
              "            </tr><tr>\n",
              "                <td><strong>Stoichiometry</strong></td>\n",
              "                <td>\n",
              "                    <p style='text-align:right'>etoh_e --></p>\n",
              "                    <p style='text-align:right'>Ethanol --></p>\n",
              "                </td>\n",
              "            </tr><tr>\n",
              "                <td><strong>GPR</strong></td><td></td>\n",
              "            </tr><tr>\n",
              "                <td><strong>Lower bound</strong></td><td>0.0</td>\n",
              "            </tr><tr>\n",
              "                <td><strong>Upper bound</strong></td><td>1000.0</td>\n",
              "            </tr>\n",
              "        </table>\n",
              "        "
            ]
          },
          "metadata": {},
          "execution_count": 21
        }
      ]
    },
    {
      "cell_type": "markdown",
      "source": [
        "# Reacciones posibles"
      ],
      "metadata": {
        "id": "vzSutRUjHAPe"
      }
    },
    {
      "cell_type": "code",
      "source": [
        "# Listar las reacciones disponibles para identificar el intercambio de etanol y oxígeno\n",
        "for reaction in model.reactions:\n",
        "    if \"EX_etoh_e\" in reaction.id or \"EX_o2_e\" in reaction.id:\n",
        "        print(f\"Reacción: {reaction.id}, Nombre: {reaction.name}\")"
      ],
      "metadata": {
        "colab": {
          "base_uri": "https://localhost:8080/"
        },
        "id": "U5WjIT_YGymo",
        "outputId": "a327fb14-18d6-4a48-82a7-299659f6e8fc"
      },
      "execution_count": null,
      "outputs": [
        {
          "output_type": "stream",
          "name": "stdout",
          "text": [
            "Reacción: EX_etoh_e, Nombre: Ethanol exchange\n",
            "Reacción: EX_o2_e, Nombre: O2 exchange\n"
          ]
        }
      ]
    },
    {
      "cell_type": "code",
      "source": [
        "# Establecer la reacción objetivo: maximizar la producción de etanol\n",
        "# E Coli produzca etanol (maximizar)\n",
        "model.objective = \"EX_etoh_e\""
      ],
      "metadata": {
        "id": "smEnzcYJGlht"
      },
      "execution_count": null,
      "outputs": []
    },
    {
      "cell_type": "code",
      "source": [
        "model.objective.variables"
      ],
      "metadata": {
        "colab": {
          "base_uri": "https://localhost:8080/"
        },
        "id": "qxIrskDYU43m",
        "outputId": "5d0decd1-3032-48da-cc8c-534755a94c0f"
      },
      "execution_count": null,
      "outputs": [
        {
          "output_type": "execute_result",
          "data": {
            "text/plain": [
              "{0 <= EX_etoh_e <= 1000.0, 0 <= EX_etoh_e_reverse_cc64f <= -0.0}"
            ]
          },
          "metadata": {},
          "execution_count": 24
        }
      ]
    },
    {
      "cell_type": "code",
      "source": [
        "# Restricciones\n",
        "# Restringir el consumo de oxígeno para simular condiciones anaeróbicas\n",
        "model.reactions.get_by_id(\"EX_o2_e\").upper_bound = 0.0  # No hay consumo de oxígeno\n",
        "# Condiciones anaerobias\n"
      ],
      "metadata": {
        "id": "_tHtyuY9HVlG"
      },
      "execution_count": null,
      "outputs": []
    },
    {
      "cell_type": "code",
      "source": [
        "# Restringir la disponibilidad de glucosa\n",
        "model.reactions.get_by_id(\"EX_glc__D_e\").lower_bound = -10.0  # mmol/gDW/h\n"
      ],
      "metadata": {
        "id": "JbvtzlYkHez4"
      },
      "execution_count": null,
      "outputs": []
    },
    {
      "cell_type": "markdown",
      "source": [
        "En modelos metabólicos basados en el análisis de balance de flujo (FBA), como los implementados en COBRApy, las propiedades lower_bound y upper_bound se utilizan para definir los límites de los flujos en una reacción metabólica. Estos límites controlan la cantidad mínima y máxima de flujo que puede pasar por una reacción, estableciendo restricciones que reflejan las condiciones ambientales o experimentales.\n",
        "\n",
        "Definición de los límites:\n",
        "lower_bound (límite inferior):\n",
        "\n",
        "Representa el flujo mínimo permitido en una reacción.\n",
        "Si es negativo, indica que la reacción puede consumir un metabolito del entorno.\n",
        "Si es cero, la reacción no puede ocurrir en la dirección de consumo.\n",
        "Si es positivo, establece un flujo mínimo en la dirección de producción.\n",
        "upper_bound (límite superior):\n",
        "\n",
        "Representa el flujo máximo permitido en una reacción.\n",
        "Si es positivo, limita cuánto flujo máximo puede pasar en la reacción.\n",
        "Si es cero, bloquea completamente la reacción en cualquier dirección.\n",
        "Si es negativo, restringe el flujo en la dirección opuesta.\n",
        "Interpretación práctica:\n",
        "Reacciones de intercambio (EX_*):\n",
        "\n",
        "Estas reacciones modelan el transporte de metabolitos entre la célula y su entorno.\n",
        "Por ejemplo:\n",
        "En 'EX_glc__D_e', el límite inferior -10.0 indica que la célula puede consumir hasta 10 mmol de glucosa por gramo de peso seco celular (gDW) por hora.\n",
        "El límite superior, si no está definido explícitamente, suele ser grande (como 1000 mmol/gDW/h), indicando que no hay restricciones importantes para la exportación de glucosa.\n",
        "Reacciones internas:\n",
        "\n",
        "Controlan el metabolismo celular dentro de la red.\n",
        "Por ejemplo:\n",
        "Una reacción con lower_bound = 0 y upper_bound = 1000 solo permite flujo positivo, indicando que ocurre en una sola dirección."
      ],
      "metadata": {
        "id": "vezNcIyNIEEl"
      }
    },
    {
      "cell_type": "markdown",
      "source": [
        "![image.png](data:image/png;base64,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)"
      ],
      "metadata": {
        "id": "Qhn0c7RYIM09"
      }
    },
    {
      "cell_type": "code",
      "source": [],
      "metadata": {
        "id": "kxkWWVboINZq"
      },
      "execution_count": null,
      "outputs": []
    },
    {
      "cell_type": "code",
      "source": [
        "# Ejecutar la optimización\n",
        "solution = model.optimize()"
      ],
      "metadata": {
        "id": "B3QesSaZHjWP"
      },
      "execution_count": null,
      "outputs": []
    },
    {
      "cell_type": "code",
      "source": [
        "solution"
      ],
      "metadata": {
        "colab": {
          "base_uri": "https://localhost:8080/",
          "height": 441
        },
        "id": "8Iod1JwDHkod",
        "outputId": "ec92a673-fc42-45b9-f190-65d7b9c0bd4b"
      },
      "execution_count": null,
      "outputs": [
        {
          "output_type": "execute_result",
          "data": {
            "text/plain": [
              "<Solution 20.000 at 0x7f3d9005c8b0>"
            ],
            "text/html": [
              "<strong><em>Optimal</em> solution with objective value 20.000</strong><br><div>\n",
              "<style scoped>\n",
              "    .dataframe tbody tr th:only-of-type {\n",
              "        vertical-align: middle;\n",
              "    }\n",
              "\n",
              "    .dataframe tbody tr th {\n",
              "        vertical-align: top;\n",
              "    }\n",
              "\n",
              "    .dataframe thead th {\n",
              "        text-align: right;\n",
              "    }\n",
              "</style>\n",
              "<table border=\"1\" class=\"dataframe\">\n",
              "  <thead>\n",
              "    <tr style=\"text-align: right;\">\n",
              "      <th></th>\n",
              "      <th>fluxes</th>\n",
              "      <th>reduced_costs</th>\n",
              "    </tr>\n",
              "  </thead>\n",
              "  <tbody>\n",
              "    <tr>\n",
              "      <th>ACALD</th>\n",
              "      <td>-2.000000e+01</td>\n",
              "      <td>3.709793e-16</td>\n",
              "    </tr>\n",
              "    <tr>\n",
              "      <th>ACALDt</th>\n",
              "      <td>0.000000e+00</td>\n",
              "      <td>-0.000000e+00</td>\n",
              "    </tr>\n",
              "    <tr>\n",
              "      <th>ACKr</th>\n",
              "      <td>3.504589e-15</td>\n",
              "      <td>-0.000000e+00</td>\n",
              "    </tr>\n",
              "    <tr>\n",
              "      <th>ACONTa</th>\n",
              "      <td>0.000000e+00</td>\n",
              "      <td>-0.000000e+00</td>\n",
              "    </tr>\n",
              "    <tr>\n",
              "      <th>ACONTb</th>\n",
              "      <td>0.000000e+00</td>\n",
              "      <td>4.946390e-16</td>\n",
              "    </tr>\n",
              "    <tr>\n",
              "      <th>...</th>\n",
              "      <td>...</td>\n",
              "      <td>...</td>\n",
              "    </tr>\n",
              "    <tr>\n",
              "      <th>TALA</th>\n",
              "      <td>3.279401e-16</td>\n",
              "      <td>-0.000000e+00</td>\n",
              "    </tr>\n",
              "    <tr>\n",
              "      <th>THD2</th>\n",
              "      <td>-8.552575e-15</td>\n",
              "      <td>-6.090077e-17</td>\n",
              "    </tr>\n",
              "    <tr>\n",
              "      <th>TKT1</th>\n",
              "      <td>-3.649001e-16</td>\n",
              "      <td>2.041897e-16</td>\n",
              "    </tr>\n",
              "    <tr>\n",
              "      <th>TKT2</th>\n",
              "      <td>3.279401e-16</td>\n",
              "      <td>-0.000000e+00</td>\n",
              "    </tr>\n",
              "    <tr>\n",
              "      <th>TPI</th>\n",
              "      <td>1.000000e+01</td>\n",
              "      <td>0.000000e+00</td>\n",
              "    </tr>\n",
              "  </tbody>\n",
              "</table>\n",
              "<p>95 rows × 2 columns</p>\n",
              "</div>"
            ]
          },
          "metadata": {},
          "execution_count": 13
        }
      ]
    },
    {
      "cell_type": "code",
      "source": [
        "type(solution)"
      ],
      "metadata": {
        "colab": {
          "base_uri": "https://localhost:8080/",
          "height": 203
        },
        "id": "0bqmbLgXWvlI",
        "outputId": "4982e4d8-5669-4e94-a3f8-a3da63ee9514"
      },
      "execution_count": null,
      "outputs": [
        {
          "output_type": "execute_result",
          "data": {
            "text/plain": [
              "cobra.core.solution.Solution"
            ],
            "text/html": [
              "<div style=\"max-width:800px; border: 1px solid var(--colab-border-color);\"><style>\n",
              "      pre.function-repr-contents {\n",
              "        overflow-x: auto;\n",
              "        padding: 8px 12px;\n",
              "        max-height: 500px;\n",
              "      }\n",
              "\n",
              "      pre.function-repr-contents.function-repr-contents-collapsed {\n",
              "        cursor: pointer;\n",
              "        max-height: 100px;\n",
              "      }\n",
              "    </style>\n",
              "    <pre style=\"white-space: initial; background:\n",
              "         var(--colab-secondary-surface-color); padding: 8px 12px;\n",
              "         border-bottom: 1px solid var(--colab-border-color);\"><b>cobra.core.solution.Solution</b><br/>def __init__(objective_value: float, status: str, fluxes: pd.Series, reduced_costs: Optional[pd.Series]=None, shadow_prices: Optional[pd.Series]=None, **kwargs) -&gt; None</pre><pre class=\"function-repr-contents function-repr-contents-collapsed\" style=\"\"><a class=\"filepath\" style=\"display:none\" href=\"#\">/usr/local/lib/python3.10/dist-packages/cobra/core/solution.py</a>A unified interface to a `cobra.Model` optimization solution.\n",
              "\n",
              "Parameters\n",
              "----------\n",
              "objective_value : float\n",
              "    The (optimal) value for the objective function.\n",
              "status : str\n",
              "    The solver status related to the solution.\n",
              "fluxes : pandas.Series\n",
              "    Contains the reaction fluxes (primal values of variables).\n",
              "reduced_costs : pandas.Series\n",
              "    Contains reaction reduced costs (dual values of variables)\n",
              "    (default None).\n",
              "shadow_prices : pandas.Series\n",
              "    Contains metabolite shadow prices (dual values of constraints)\n",
              "    (default None).\n",
              "\n",
              "Attributes\n",
              "----------\n",
              "objective_value : float\n",
              "    The (optimal) value for the objective function.\n",
              "status : str\n",
              "    The solver status related to the solution.\n",
              "fluxes : pandas.Series\n",
              "    Contains the reaction fluxes (primal values of variables).\n",
              "reduced_costs : pandas.Series\n",
              "    Contains reaction reduced costs (dual values of variables).\n",
              "shadow_prices : pandas.Series\n",
              "    Contains metabolite shadow prices (dual values of constraints).\n",
              "\n",
              "Notes\n",
              "-----\n",
              "Solution is meant to be constructed by `get_solution` please look at that\n",
              "function to fully understand the `Solution` class.</pre>\n",
              "      <script>\n",
              "      if (google.colab.kernel.accessAllowed && google.colab.files && google.colab.files.view) {\n",
              "        for (const element of document.querySelectorAll('.filepath')) {\n",
              "          element.style.display = 'block'\n",
              "          element.onclick = (event) => {\n",
              "            event.preventDefault();\n",
              "            event.stopPropagation();\n",
              "            google.colab.files.view(element.textContent, 22);\n",
              "          };\n",
              "        }\n",
              "      }\n",
              "      for (const element of document.querySelectorAll('.function-repr-contents')) {\n",
              "        element.onclick = (event) => {\n",
              "          event.preventDefault();\n",
              "          event.stopPropagation();\n",
              "          element.classList.toggle('function-repr-contents-collapsed');\n",
              "        };\n",
              "      }\n",
              "      </script>\n",
              "      </div>"
            ]
          },
          "metadata": {},
          "execution_count": 26
        }
      ]
    },
    {
      "cell_type": "code",
      "source": [
        "solution.fluxes"
      ],
      "metadata": {
        "colab": {
          "base_uri": "https://localhost:8080/",
          "height": 458
        },
        "id": "QEukgDBdXBa_",
        "outputId": "50f3ce5f-80b3-4274-ab68-c344044b037e"
      },
      "execution_count": null,
      "outputs": [
        {
          "output_type": "execute_result",
          "data": {
            "text/plain": [
              "ACALD    -2.000000e+01\n",
              "ACALDt    0.000000e+00\n",
              "ACKr      0.000000e+00\n",
              "ACONTa    0.000000e+00\n",
              "ACONTb    0.000000e+00\n",
              "              ...     \n",
              "TALA     -5.920114e-16\n",
              "THD2     -3.032866e-15\n",
              "TKT1     -1.284852e-15\n",
              "TKT2     -5.920114e-16\n",
              "TPI       1.000000e+01\n",
              "Name: fluxes, Length: 95, dtype: float64"
            ],
            "text/html": [
              "<div>\n",
              "<style scoped>\n",
              "    .dataframe tbody tr th:only-of-type {\n",
              "        vertical-align: middle;\n",
              "    }\n",
              "\n",
              "    .dataframe tbody tr th {\n",
              "        vertical-align: top;\n",
              "    }\n",
              "\n",
              "    .dataframe thead th {\n",
              "        text-align: right;\n",
              "    }\n",
              "</style>\n",
              "<table border=\"1\" class=\"dataframe\">\n",
              "  <thead>\n",
              "    <tr style=\"text-align: right;\">\n",
              "      <th></th>\n",
              "      <th>fluxes</th>\n",
              "    </tr>\n",
              "  </thead>\n",
              "  <tbody>\n",
              "    <tr>\n",
              "      <th>ACALD</th>\n",
              "      <td>-2.000000e+01</td>\n",
              "    </tr>\n",
              "    <tr>\n",
              "      <th>ACALDt</th>\n",
              "      <td>0.000000e+00</td>\n",
              "    </tr>\n",
              "    <tr>\n",
              "      <th>ACKr</th>\n",
              "      <td>0.000000e+00</td>\n",
              "    </tr>\n",
              "    <tr>\n",
              "      <th>ACONTa</th>\n",
              "      <td>0.000000e+00</td>\n",
              "    </tr>\n",
              "    <tr>\n",
              "      <th>ACONTb</th>\n",
              "      <td>0.000000e+00</td>\n",
              "    </tr>\n",
              "    <tr>\n",
              "      <th>...</th>\n",
              "      <td>...</td>\n",
              "    </tr>\n",
              "    <tr>\n",
              "      <th>TALA</th>\n",
              "      <td>-5.920114e-16</td>\n",
              "    </tr>\n",
              "    <tr>\n",
              "      <th>THD2</th>\n",
              "      <td>-3.032866e-15</td>\n",
              "    </tr>\n",
              "    <tr>\n",
              "      <th>TKT1</th>\n",
              "      <td>-1.284852e-15</td>\n",
              "    </tr>\n",
              "    <tr>\n",
              "      <th>TKT2</th>\n",
              "      <td>-5.920114e-16</td>\n",
              "    </tr>\n",
              "    <tr>\n",
              "      <th>TPI</th>\n",
              "      <td>1.000000e+01</td>\n",
              "    </tr>\n",
              "  </tbody>\n",
              "</table>\n",
              "<p>95 rows × 1 columns</p>\n",
              "</div><br><label><b>dtype:</b> float64</label>"
            ]
          },
          "metadata": {},
          "execution_count": 29
        }
      ]
    },
    {
      "cell_type": "code",
      "source": [
        "round(solution.objective_value,4)"
      ],
      "metadata": {
        "colab": {
          "base_uri": "https://localhost:8080/"
        },
        "id": "f0XAzVxxXQsa",
        "outputId": "3e9d49ce-e07f-41ad-c9c7-522edb0fd15b"
      },
      "execution_count": null,
      "outputs": [
        {
          "output_type": "execute_result",
          "data": {
            "text/plain": [
              "20.0"
            ]
          },
          "metadata": {},
          "execution_count": 31
        }
      ]
    },
    {
      "cell_type": "code",
      "source": [
        "\n",
        "# Mostrar el valor de la función objetivo (producción de etanol)\n",
        "print(f\"Producción de etanol: {solution.objective_value:.4f} mmol/gDW/h\")"
      ],
      "metadata": {
        "colab": {
          "base_uri": "https://localhost:8080/"
        },
        "id": "CUXTU7ReHm_4",
        "outputId": "c1b01eaa-8706-4b84-eb3b-666f644b91c7"
      },
      "execution_count": null,
      "outputs": [
        {
          "output_type": "stream",
          "name": "stdout",
          "text": [
            "Producción de etanol: 20.0000 mmol/gDW/h\n"
          ]
        }
      ]
    },
    {
      "cell_type": "code",
      "source": [
        "\n",
        "# Mostrar los flujos principales\n",
        "print(\"\\nFlujos principales:\")\n",
        "for reaction in model.reactions:\n",
        "    if abs(reaction.flux) > 1e-6:  # Mostrar solo flujos significativos\n",
        "        print(f\"{reaction.id}: {reaction.flux:.4f} mmol/gDW/h\")"
      ],
      "metadata": {
        "colab": {
          "base_uri": "https://localhost:8080/"
        },
        "id": "wmag9OjJHpfD",
        "outputId": "0a8d6523-bc16-44a2-d124-f5c19aa09f56"
      },
      "execution_count": null,
      "outputs": [
        {
          "output_type": "stream",
          "name": "stdout",
          "text": [
            "\n",
            "Flujos principales:\n",
            "ACALD: -20.0000 mmol/gDW/h\n",
            "ALCD2x: -20.0000 mmol/gDW/h\n",
            "ATPM: 25.0000 mmol/gDW/h\n",
            "ATPS4r: 5.0000 mmol/gDW/h\n",
            "CO2t: -20.0000 mmol/gDW/h\n",
            "ENO: 20.0000 mmol/gDW/h\n",
            "ETOHt2r: -20.0000 mmol/gDW/h\n",
            "EX_co2_e: 20.0000 mmol/gDW/h\n",
            "EX_etoh_e: 20.0000 mmol/gDW/h\n",
            "EX_glc__D_e: -10.0000 mmol/gDW/h\n",
            "FBA: 10.0000 mmol/gDW/h\n",
            "GAPD: 20.0000 mmol/gDW/h\n",
            "GLCpts: 10.0000 mmol/gDW/h\n",
            "PDH: 20.0000 mmol/gDW/h\n",
            "PFK: 10.0000 mmol/gDW/h\n",
            "PGI: 10.0000 mmol/gDW/h\n",
            "PGK: -20.0000 mmol/gDW/h\n",
            "PGM: -20.0000 mmol/gDW/h\n",
            "PYK: 10.0000 mmol/gDW/h\n",
            "TPI: 10.0000 mmol/gDW/h\n"
          ]
        }
      ]
    },
    {
      "cell_type": "code",
      "source": [
        "model.reactions"
      ],
      "metadata": {
        "colab": {
          "base_uri": "https://localhost:8080/"
        },
        "id": "85UDTrWAXllH",
        "outputId": "98cfd853-521f-4ed4-98e1-0dab8bc3dd3a"
      },
      "execution_count": null,
      "outputs": [
        {
          "output_type": "execute_result",
          "data": {
            "text/plain": [
              "[<Reaction ACALD at 0x7f3d9005caf0>,\n",
              " <Reaction ACALDt at 0x7f3d9005f3d0>,\n",
              " <Reaction ACKr at 0x7f3d9005f250>,\n",
              " <Reaction ACONTa at 0x7f3d90a4b160>,\n",
              " <Reaction ACONTb at 0x7f3d90a496f0>,\n",
              " <Reaction ACt2r at 0x7f3d90a4bcd0>,\n",
              " <Reaction ADK1 at 0x7f3d9005ca30>,\n",
              " <Reaction AKGDH at 0x7f3d9005d270>,\n",
              " <Reaction AKGt2r at 0x7f3d90a492a0>,\n",
              " <Reaction ALCD2x at 0x7f3d90a49ba0>,\n",
              " <Reaction ATPM at 0x7f3d90a49480>,\n",
              " <Reaction ATPS4r at 0x7f3d9005cc10>,\n",
              " <Reaction Biomass_Ecoli_core at 0x7f3d90a48df0>,\n",
              " <Reaction CO2t at 0x7f3d90a4bc70>,\n",
              " <Reaction CS at 0x7f3d90a49e40>,\n",
              " <Reaction CYTBD at 0x7f3d90a48d00>,\n",
              " <Reaction D_LACt2 at 0x7f3d90a474f0>,\n",
              " <Reaction ENO at 0x7f3d90107f40>,\n",
              " <Reaction ETOHt2r at 0x7f3d90a46ec0>,\n",
              " <Reaction EX_ac_e at 0x7f3d90a45bd0>,\n",
              " <Reaction EX_acald_e at 0x7f3d90a445b0>,\n",
              " <Reaction EX_akg_e at 0x7f3d90a46710>,\n",
              " <Reaction EX_co2_e at 0x7f3d90a46830>,\n",
              " <Reaction EX_etoh_e at 0x7f3d90107fa0>,\n",
              " <Reaction EX_for_e at 0x7f3d90106920>,\n",
              " <Reaction EX_fru_e at 0x7f3d901061d0>,\n",
              " <Reaction EX_fum_e at 0x7f3d90106230>,\n",
              " <Reaction EX_glc__D_e at 0x7f3d90104b50>,\n",
              " <Reaction EX_gln__L_e at 0x7f3d90104a00>,\n",
              " <Reaction EX_glu__L_e at 0x7f3d90104670>,\n",
              " <Reaction EX_h_e at 0x7f3d90104130>,\n",
              " <Reaction EX_h2o_e at 0x7f3d901041c0>,\n",
              " <Reaction EX_lac__D_e at 0x7f3d90107550>,\n",
              " <Reaction EX_mal__L_e at 0x7f3d901076d0>,\n",
              " <Reaction EX_nh4_e at 0x7f3d901078b0>,\n",
              " <Reaction EX_o2_e at 0x7f3d90107b80>,\n",
              " <Reaction EX_pi_e at 0x7f3d90107ac0>,\n",
              " <Reaction EX_pyr_e at 0x7f3d90106cb0>,\n",
              " <Reaction EX_succ_e at 0x7f3d90106f80>,\n",
              " <Reaction FBA at 0x7f3d901040a0>,\n",
              " <Reaction FBP at 0x7f3d90107ca0>,\n",
              " <Reaction FORt2 at 0x7f3d90104820>,\n",
              " <Reaction FORti at 0x7f3d90106560>,\n",
              " <Reaction FRD7 at 0x7f3d90104ee0>,\n",
              " <Reaction FRUpts2 at 0x7f3d900463e0>,\n",
              " <Reaction FUM at 0x7f3d90045780>,\n",
              " <Reaction FUMt2_2 at 0x7f3d900471c0>,\n",
              " <Reaction G6PDH2r at 0x7f3d90047c40>,\n",
              " <Reaction GAPD at 0x7f3d90047640>,\n",
              " <Reaction GLCpts at 0x7f3d90045a80>,\n",
              " <Reaction GLNS at 0x7f3d90044400>,\n",
              " <Reaction GLNabc at 0x7f3d90044fa0>,\n",
              " <Reaction GLUDy at 0x7f3d90044910>,\n",
              " <Reaction GLUN at 0x7f3d90047310>,\n",
              " <Reaction GLUSy at 0x7f3d90044d30>,\n",
              " <Reaction GLUt2r at 0x7f3d901012a0>,\n",
              " <Reaction GND at 0x7f3d90101180>,\n",
              " <Reaction H2Ot at 0x7f3d901011b0>,\n",
              " <Reaction ICDHyr at 0x7f3d90102fe0>,\n",
              " <Reaction ICL at 0x7f3d90102740>,\n",
              " <Reaction LDH_D at 0x7f3d90102710>,\n",
              " <Reaction MALS at 0x7f3d90102350>,\n",
              " <Reaction MALt2_2 at 0x7f3d90103100>,\n",
              " <Reaction MDH at 0x7f3d901035e0>,\n",
              " <Reaction ME1 at 0x7f3d90103610>,\n",
              " <Reaction ME2 at 0x7f3d90100490>,\n",
              " <Reaction NADH16 at 0x7f3d90101cf0>,\n",
              " <Reaction NADTRHD at 0x7f3d90102d10>,\n",
              " <Reaction NH4t at 0x7f3d8fe93df0>,\n",
              " <Reaction O2t at 0x7f3d8fe92b60>,\n",
              " <Reaction PDH at 0x7f3d8fe93790>,\n",
              " <Reaction PFK at 0x7f3d8fe93f70>,\n",
              " <Reaction PFL at 0x7f3d8fe92f20>,\n",
              " <Reaction PGI at 0x7f3d8fe92f50>,\n",
              " <Reaction PGK at 0x7f3d90a6dcc0>,\n",
              " <Reaction PGL at 0x7f3d90a6cbe0>,\n",
              " <Reaction PGM at 0x7f3d90a6c9d0>,\n",
              " <Reaction PIt2r at 0x7f3d90a6dbd0>,\n",
              " <Reaction PPC at 0x7f3d90a6feb0>,\n",
              " <Reaction PPCK at 0x7f3d90a6dde0>,\n",
              " <Reaction PPS at 0x7f3d8ff63700>,\n",
              " <Reaction PTAr at 0x7f3d8ff60850>,\n",
              " <Reaction PYK at 0x7f3d8ff60070>,\n",
              " <Reaction PYRt2 at 0x7f3d8ff613c0>,\n",
              " <Reaction RPE at 0x7f3d90046ec0>,\n",
              " <Reaction RPI at 0x7f3d90106410>,\n",
              " <Reaction SUCCt2_2 at 0x7f3d8ff61f60>,\n",
              " <Reaction SUCCt3 at 0x7f3d8ff62260>,\n",
              " <Reaction SUCDi at 0x7f3d8ff61c00>,\n",
              " <Reaction SUCOAS at 0x7f3d8ff62320>,\n",
              " <Reaction TALA at 0x7f3d8ff63220>,\n",
              " <Reaction THD2 at 0x7f3d8ff63250>,\n",
              " <Reaction TKT1 at 0x7f3d8ff83f70>,\n",
              " <Reaction TKT2 at 0x7f3d8ff83af0>,\n",
              " <Reaction TPI at 0x7f3d8ff82740>]"
            ]
          },
          "metadata": {},
          "execution_count": 33
        }
      ]
    },
    {
      "cell_type": "code",
      "source": [
        "import matplotlib.pyplot as plt\n",
        "from cobra.io import load_model\n",
        "import numpy as np\n",
        "import cobra\n",
        "\n",
        "# Cargar el modelo de prueba de E. coli\n",
        "model = load_model(\"textbook\") #importar modelo de e coli\n",
        "\n",
        "\n",
        "# Establecer las condiciones del modelo\n",
        "model.objective = \"EX_etoh_e\"  # Maximizar la producción de etanol\n",
        "model.reactions.get_by_id(\"EX_o2_e\").upper_bound = 0.0  # Condiciones anaeróbicas\n",
        "model.reactions.get_by_id(\"EX_glc__D_e\").lower_bound = -10.0  # Límite de glucosa\n",
        "\n",
        "# Optimizar el modelo\n",
        "solution = model.optimize()\n",
        "\n",
        "# Extraer flujos significativos\n",
        "threshold = 1e-6  # Definir un umbral para filtrar flujos insignificantes\n",
        "significant_fluxes = {\n",
        "    reaction.id: reaction.flux\n",
        "    for reaction in model.reactions\n",
        "    if abs(reaction.flux) > threshold\n",
        "}\n",
        "\n",
        "# Ordenar los flujos en orden descendente\n",
        "sorted_fluxes = sorted(significant_fluxes.items(), key=lambda x: abs(x[1]), reverse=True)\n",
        "\n",
        "# Separar claves (reacciones) y valores (flujos) para graficar\n",
        "reactions, fluxes = zip(*sorted_fluxes)\n",
        "\n",
        "# Generar el gráfico de barras\n",
        "plt.figure(figsize=(12, 6))\n",
        "bar_width = 0.8\n",
        "bar_positions = np.arange(len(reactions))\n",
        "colors = [\"green\" if flux > 0 else \"red\" for flux in fluxes]  # Verde para producción, rojo para consumo\n",
        "\n",
        "plt.bar(bar_positions, fluxes, color=colors, width=bar_width)\n",
        "plt.axhline(0, color=\"black\", linewidth=0.8)  # Línea horizontal en y=0\n",
        "\n",
        "# Configurar etiquetas y títulos\n",
        "plt.xticks(bar_positions, reactions, rotation=90, fontsize=8)\n",
        "plt.ylabel(\"Flujo (mmol/gDW/h)\")\n",
        "plt.title(\"Flujos metabólicos significativos\")\n",
        "plt.tight_layout()  # Ajustar diseño para evitar recortes\n",
        "plt.show()\n"
      ],
      "metadata": {
        "colab": {
          "base_uri": "https://localhost:8080/",
          "height": 607
        },
        "id": "iJ4LFiXWMZci",
        "outputId": "894be2df-aa94-47e3-871b-6ef38a9aa985"
      },
      "execution_count": 5,
      "outputs": [
        {
          "output_type": "display_data",
          "data": {
            "text/plain": [
              "<Figure size 1200x600 with 1 Axes>"
            ],
            "image/png": "[encoded data removed]"
          },
          "metadata": {}
        }
      ]
    }
  ]
}