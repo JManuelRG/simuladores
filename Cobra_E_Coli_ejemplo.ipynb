{
  "nbformat": 4,
  "nbformat_minor": 0,
  "metadata": {
    "colab": {
      "provenance": [],
      "authorship_tag": "ABX9TyO0+Py560mD53GlOjqxLhjB",
      "include_colab_link": true
    },
    "kernelspec": {
      "name": "python3",
      "display_name": "Python 3"
    },
    "language_info": {
      "name": "python"
    }
  },
  "cells": [
    {
      "cell_type": "markdown",
      "metadata": {
        "id": "view-in-github",
        "colab_type": "text"
      },
      "source": [
        "<a href=\"https://colab.research.google.com/github/JManuelRG/simuladores/blob/main/Cobra_E_Coli_ejemplo.ipynb\" target=\"_parent\"><img src=\"https://colab.research.google.com/assets/colab-badge.svg\" alt=\"Open In Colab\"/></a>"
      ]
    },
    {
      "cell_type": "markdown",
      "source": [
        "#  Ejemplo:\n",
        "# Optimización en CobraPy.\n",
        "# The COnstraint-Based\n",
        "# Reconstruction  and Analysis"
      ],
      "metadata": {
        "id": "VZHV0hDicvh0"
      }
    },
    {
      "cell_type": "markdown",
      "source": [
        "Ejemplo de Optimización con el Modelo de E. coli en COBRApy\n",
        "\n",
        "Objetivo:\n",
        "Maximizar la tasa de crecimiento de E. coli bajo condiciones de limitación de glucosa y observar cómo varía la producción de acetato (un subproducto común del metabolismo).\n",
        "\n",
        "Pasos:\n",
        "Instalación y carga del modelo: El modelo básico de E. coli puede ser descargado en formato SBML desde bases de datos como BiGG Models o puede usarse el modelo incluido en COBRApy:"
      ],
      "metadata": {
        "id": "ByqaMxJidFu9"
      }
    },
    {
      "cell_type": "markdown",
      "source": [],
      "metadata": {
        "id": "StBvD7Z2nxHH"
      }
    },
    {
      "cell_type": "code",
      "source": [
        "!pip install cobra"
      ],
      "metadata": {
        "colab": {
          "base_uri": "https://localhost:8080/"
        },
        "id": "oEk7EslocwVD",
        "outputId": "9e125051-0c51-440f-90e9-06c54adcba32"
      },
      "execution_count": null,
      "outputs": [
        {
          "output_type": "stream",
          "name": "stdout",
          "text": [
            "Collecting cobra\n",
            "  Downloading cobra-0.29.1-py2.py3-none-any.whl.metadata (9.3 kB)\n",
            "Collecting appdirs~=1.4 (from cobra)\n",
            "  Downloading appdirs-1.4.4-py2.py3-none-any.whl.metadata (9.0 kB)\n",
            "Collecting depinfo~=2.2 (from cobra)\n",
            "  Downloading depinfo-2.2.0-py3-none-any.whl.metadata (3.8 kB)\n",
            "Collecting diskcache~=5.0 (from cobra)\n",
            "  Downloading diskcache-5.6.3-py3-none-any.whl.metadata (20 kB)\n",
            "Requirement already satisfied: future in /usr/local/lib/python3.10/dist-packages (from cobra) (1.0.0)\n",
            "Collecting httpx~=0.24 (from cobra)\n",
            "  Downloading httpx-0.27.2-py3-none-any.whl.metadata (7.1 kB)\n",
            "Requirement already satisfied: importlib-resources in /usr/local/lib/python3.10/dist-packages (from cobra) (6.4.5)\n",
            "Requirement already satisfied: numpy>=1.13 in /usr/local/lib/python3.10/dist-packages (from cobra) (1.26.4)\n",
            "Collecting optlang~=1.8 (from cobra)\n",
            "  Downloading optlang-1.8.2-py2.py3-none-any.whl.metadata (8.1 kB)\n",
            "Requirement already satisfied: pandas<3.0,>=1.0 in /usr/local/lib/python3.10/dist-packages (from cobra) (2.2.2)\n",
            "Requirement already satisfied: pydantic>=1.6 in /usr/local/lib/python3.10/dist-packages (from cobra) (2.9.2)\n",
            "Collecting python-libsbml~=5.19 (from cobra)\n",
            "  Downloading python_libsbml-5.20.4-cp310-cp310-manylinux_2_17_x86_64.manylinux2014_x86_64.whl.metadata (532 bytes)\n",
            "Requirement already satisfied: rich>=8.0 in /usr/local/lib/python3.10/dist-packages (from cobra) (13.9.2)\n",
            "Collecting ruamel.yaml~=0.16 (from cobra)\n",
            "  Downloading ruamel.yaml-0.18.6-py3-none-any.whl.metadata (23 kB)\n",
            "Collecting swiglpk (from cobra)\n",
            "  Downloading swiglpk-5.0.10-cp310-cp310-manylinux_2_17_x86_64.manylinux2014_x86_64.whl.metadata (5.5 kB)\n",
            "Requirement already satisfied: anyio in /usr/local/lib/python3.10/dist-packages (from httpx~=0.24->cobra) (3.7.1)\n",
            "Requirement already satisfied: certifi in /usr/local/lib/python3.10/dist-packages (from httpx~=0.24->cobra) (2024.8.30)\n",
            "Collecting httpcore==1.* (from httpx~=0.24->cobra)\n",
            "  Downloading httpcore-1.0.6-py3-none-any.whl.metadata (21 kB)\n",
            "Requirement already satisfied: idna in /usr/local/lib/python3.10/dist-packages (from httpx~=0.24->cobra) (3.10)\n",
            "Requirement already satisfied: sniffio in /usr/local/lib/python3.10/dist-packages (from httpx~=0.24->cobra) (1.3.1)\n",
            "Collecting h11<0.15,>=0.13 (from httpcore==1.*->httpx~=0.24->cobra)\n",
            "  Downloading h11-0.14.0-py3-none-any.whl.metadata (8.2 kB)\n",
            "Requirement already satisfied: sympy>=1.12.0 in /usr/local/lib/python3.10/dist-packages (from optlang~=1.8->cobra) (1.13.3)\n",
            "Requirement already satisfied: python-dateutil>=2.8.2 in /usr/local/lib/python3.10/dist-packages (from pandas<3.0,>=1.0->cobra) (2.8.2)\n",
            "Requirement already satisfied: pytz>=2020.1 in /usr/local/lib/python3.10/dist-packages (from pandas<3.0,>=1.0->cobra) (2024.2)\n",
            "Requirement already satisfied: tzdata>=2022.7 in /usr/local/lib/python3.10/dist-packages (from pandas<3.0,>=1.0->cobra) (2024.2)\n",
            "Requirement already satisfied: annotated-types>=0.6.0 in /usr/local/lib/python3.10/dist-packages (from pydantic>=1.6->cobra) (0.7.0)\n",
            "Requirement already satisfied: pydantic-core==2.23.4 in /usr/local/lib/python3.10/dist-packages (from pydantic>=1.6->cobra) (2.23.4)\n",
            "Requirement already satisfied: typing-extensions>=4.6.1 in /usr/local/lib/python3.10/dist-packages (from pydantic>=1.6->cobra) (4.12.2)\n",
            "Requirement already satisfied: markdown-it-py>=2.2.0 in /usr/local/lib/python3.10/dist-packages (from rich>=8.0->cobra) (3.0.0)\n",
            "Requirement already satisfied: pygments<3.0.0,>=2.13.0 in /usr/local/lib/python3.10/dist-packages (from rich>=8.0->cobra) (2.18.0)\n",
            "Collecting ruamel.yaml.clib>=0.2.7 (from ruamel.yaml~=0.16->cobra)\n",
            "  Downloading ruamel.yaml.clib-0.2.12-cp310-cp310-manylinux_2_17_x86_64.manylinux2014_x86_64.whl.metadata (2.7 kB)\n",
            "Requirement already satisfied: mdurl~=0.1 in /usr/local/lib/python3.10/dist-packages (from markdown-it-py>=2.2.0->rich>=8.0->cobra) (0.1.2)\n",
            "Requirement already satisfied: six>=1.5 in /usr/local/lib/python3.10/dist-packages (from python-dateutil>=2.8.2->pandas<3.0,>=1.0->cobra) (1.16.0)\n",
            "Requirement already satisfied: mpmath<1.4,>=1.1.0 in /usr/local/lib/python3.10/dist-packages (from sympy>=1.12.0->optlang~=1.8->cobra) (1.3.0)\n",
            "Requirement already satisfied: exceptiongroup in /usr/local/lib/python3.10/dist-packages (from anyio->httpx~=0.24->cobra) (1.2.2)\n",
            "Downloading cobra-0.29.1-py2.py3-none-any.whl (1.2 MB)\n",
            "\u001b[2K   \u001b[90m━━━━━━━━━━━━━━━━━━━━━━━━━━━━━━━━━━━━━━━━\u001b[0m \u001b[32m1.2/1.2 MB\u001b[0m \u001b[31m21.1 MB/s\u001b[0m eta \u001b[36m0:00:00\u001b[0m\n",
            "\u001b[?25hDownloading appdirs-1.4.4-py2.py3-none-any.whl (9.6 kB)\n",
            "Downloading depinfo-2.2.0-py3-none-any.whl (24 kB)\n",
            "Downloading diskcache-5.6.3-py3-none-any.whl (45 kB)\n",
            "\u001b[2K   \u001b[90m━━━━━━━━━━━━━━━━━━━━━━━━━━━━━━━━━━━━━━━━\u001b[0m \u001b[32m45.5/45.5 kB\u001b[0m \u001b[31m3.3 MB/s\u001b[0m eta \u001b[36m0:00:00\u001b[0m\n",
            "\u001b[?25hDownloading httpx-0.27.2-py3-none-any.whl (76 kB)\n",
            "\u001b[2K   \u001b[90m━━━━━━━━━━━━━━━━━━━━━━━━━━━━━━━━━━━━━━━━\u001b[0m \u001b[32m76.4/76.4 kB\u001b[0m \u001b[31m6.2 MB/s\u001b[0m eta \u001b[36m0:00:00\u001b[0m\n",
            "\u001b[?25hDownloading httpcore-1.0.6-py3-none-any.whl (78 kB)\n",
            "\u001b[2K   \u001b[90m━━━━━━━━━━━━━━━━━━━━━━━━━━━━━━━━━━━━━━━━\u001b[0m \u001b[32m78.0/78.0 kB\u001b[0m \u001b[31m6.7 MB/s\u001b[0m eta \u001b[36m0:00:00\u001b[0m\n",
            "\u001b[?25hDownloading optlang-1.8.2-py2.py3-none-any.whl (141 kB)\n",
            "\u001b[2K   \u001b[90m━━━━━━━━━━━━━━━━━━━━━━━━━━━━━━━━━━━━━━━━\u001b[0m \u001b[32m141.8/141.8 kB\u001b[0m \u001b[31m11.3 MB/s\u001b[0m eta \u001b[36m0:00:00\u001b[0m\n",
            "\u001b[?25hDownloading python_libsbml-5.20.4-cp310-cp310-manylinux_2_17_x86_64.manylinux2014_x86_64.whl (8.0 MB)\n",
            "\u001b[2K   \u001b[90m━━━━━━━━━━━━━━━━━━━━━━━━━━━━━━━━━━━━━━━━\u001b[0m \u001b[32m8.0/8.0 MB\u001b[0m \u001b[31m74.6 MB/s\u001b[0m eta \u001b[36m0:00:00\u001b[0m\n",
            "\u001b[?25hDownloading ruamel.yaml-0.18.6-py3-none-any.whl (117 kB)\n",
            "\u001b[2K   \u001b[90m━━━━━━━━━━━━━━━━━━━━━━━━━━━━━━━━━━━━━━━━\u001b[0m \u001b[32m117.8/117.8 kB\u001b[0m \u001b[31m8.8 MB/s\u001b[0m eta \u001b[36m0:00:00\u001b[0m\n",
            "\u001b[?25hDownloading swiglpk-5.0.10-cp310-cp310-manylinux_2_17_x86_64.manylinux2014_x86_64.whl (2.3 MB)\n",
            "\u001b[2K   \u001b[90m━━━━━━━━━━━━━━━━━━━━━━━━━━━━━━━━━━━━━━━━\u001b[0m \u001b[32m2.3/2.3 MB\u001b[0m \u001b[31m65.0 MB/s\u001b[0m eta \u001b[36m0:00:00\u001b[0m\n",
            "\u001b[?25hDownloading ruamel.yaml.clib-0.2.12-cp310-cp310-manylinux_2_17_x86_64.manylinux2014_x86_64.whl (722 kB)\n",
            "\u001b[2K   \u001b[90m━━━━━━━━━━━━━━━━━━━━━━━━━━━━━━━━━━━━━━━━\u001b[0m \u001b[32m722.2/722.2 kB\u001b[0m \u001b[31m37.6 MB/s\u001b[0m eta \u001b[36m0:00:00\u001b[0m\n",
            "\u001b[?25hDownloading h11-0.14.0-py3-none-any.whl (58 kB)\n",
            "\u001b[2K   \u001b[90m━━━━━━━━━━━━━━━━━━━━━━━━━━━━━━━━━━━━━━━━\u001b[0m \u001b[32m58.3/58.3 kB\u001b[0m \u001b[31m4.6 MB/s\u001b[0m eta \u001b[36m0:00:00\u001b[0m\n",
            "\u001b[?25hInstalling collected packages: swiglpk, python-libsbml, appdirs, ruamel.yaml.clib, h11, diskcache, depinfo, ruamel.yaml, optlang, httpcore, httpx, cobra\n",
            "Successfully installed appdirs-1.4.4 cobra-0.29.1 depinfo-2.2.0 diskcache-5.6.3 h11-0.14.0 httpcore-1.0.6 httpx-0.27.2 optlang-1.8.2 python-libsbml-5.20.4 ruamel.yaml-0.18.6 ruamel.yaml.clib-0.2.12 swiglpk-5.0.10\n"
          ]
        }
      ]
    },
    {
      "cell_type": "code",
      "source": [
        "import cobra\n",
        "from cobra.io import load_model\n",
        "\n",
        "model = load_model(\"textbook\") #importar modelo de e coli"
      ],
      "metadata": {
        "id": "9eOepFUGdpYU"
      },
      "execution_count": null,
      "outputs": []
    },
    {
      "cell_type": "markdown",
      "source": [
        "# Análisis del Modelo e importación"
      ],
      "metadata": {
        "id": "jeNxVZmzcwg8"
      }
    },
    {
      "cell_type": "code",
      "source": [
        "model.summary() #resumen del modelo"
      ],
      "metadata": {
        "colab": {
          "base_uri": "https://localhost:8080/",
          "height": 441
        },
        "id": "JdYFKguEcwlE",
        "outputId": "e3d43b5c-d1b6-4014-a49c-6f5a60db16e8"
      },
      "execution_count": null,
      "outputs": [
        {
          "output_type": "execute_result",
          "data": {
            "text/plain": [
              "<cobra.summary.model_summary.ModelSummary at 0x7e1b1414d2d0>"
            ],
            "text/html": [
              "<h3>Objective</h3><p>1.0 Biomass_Ecoli_core = 0.8739215069684271</p><h4>Uptake</h4><table border=\"1\" class=\"dataframe\">\n",
              "  <thead>\n",
              "    <tr style=\"text-align: right;\">\n",
              "      <th>Metabolite</th>\n",
              "      <th>Reaction</th>\n",
              "      <th>Flux</th>\n",
              "      <th>C-Number</th>\n",
              "      <th>C-Flux</th>\n",
              "    </tr>\n",
              "  </thead>\n",
              "  <tbody>\n",
              "    <tr>\n",
              "      <td>glc__D_e</td>\n",
              "      <td>EX_glc__D_e</td>\n",
              "      <td>10</td>\n",
              "      <td>6</td>\n",
              "      <td>100.00%</td>\n",
              "    </tr>\n",
              "    <tr>\n",
              "      <td>nh4_e</td>\n",
              "      <td>EX_nh4_e</td>\n",
              "      <td>4.765</td>\n",
              "      <td>0</td>\n",
              "      <td>0.00%</td>\n",
              "    </tr>\n",
              "    <tr>\n",
              "      <td>o2_e</td>\n",
              "      <td>EX_o2_e</td>\n",
              "      <td>21.8</td>\n",
              "      <td>0</td>\n",
              "      <td>0.00%</td>\n",
              "    </tr>\n",
              "    <tr>\n",
              "      <td>pi_e</td>\n",
              "      <td>EX_pi_e</td>\n",
              "      <td>3.215</td>\n",
              "      <td>0</td>\n",
              "      <td>0.00%</td>\n",
              "    </tr>\n",
              "  </tbody>\n",
              "</table><h4>Secretion</h4><table border=\"1\" class=\"dataframe\">\n",
              "  <thead>\n",
              "    <tr style=\"text-align: right;\">\n",
              "      <th>Metabolite</th>\n",
              "      <th>Reaction</th>\n",
              "      <th>Flux</th>\n",
              "      <th>C-Number</th>\n",
              "      <th>C-Flux</th>\n",
              "    </tr>\n",
              "  </thead>\n",
              "  <tbody>\n",
              "    <tr>\n",
              "      <td>co2_e</td>\n",
              "      <td>EX_co2_e</td>\n",
              "      <td>-22.81</td>\n",
              "      <td>1</td>\n",
              "      <td>100.00%</td>\n",
              "    </tr>\n",
              "    <tr>\n",
              "      <td>h2o_e</td>\n",
              "      <td>EX_h2o_e</td>\n",
              "      <td>-29.18</td>\n",
              "      <td>0</td>\n",
              "      <td>0.00%</td>\n",
              "    </tr>\n",
              "    <tr>\n",
              "      <td>h_e</td>\n",
              "      <td>EX_h_e</td>\n",
              "      <td>-17.53</td>\n",
              "      <td>0</td>\n",
              "      <td>0.00%</td>\n",
              "    </tr>\n",
              "  </tbody>\n",
              "</table>"
            ]
          },
          "metadata": {},
          "execution_count": 7
        }
      ]
    },
    {
      "cell_type": "markdown",
      "source": [
        "# Verificar reacciones:"
      ],
      "metadata": {
        "id": "8SEm3F6Hf1Y1"
      }
    },
    {
      "cell_type": "code",
      "source": [
        "model.reactions"
      ],
      "metadata": {
        "colab": {
          "base_uri": "https://localhost:8080/"
        },
        "id": "qGYvHdbWf8Py",
        "outputId": "b2ac4f52-b4e7-4a00-c13f-e8cc501b5876"
      },
      "execution_count": null,
      "outputs": [
        {
          "output_type": "execute_result",
          "data": {
            "text/plain": [
              "[<Reaction ACALD at 0x7e1b1444dd20>,\n",
              " <Reaction ACALDt at 0x7e1b1444fdc0>,\n",
              " <Reaction ACKr at 0x7e1b1444c100>,\n",
              " <Reaction ACONTa at 0x7e1b1444ca30>,\n",
              " <Reaction ACONTb at 0x7e1b1444e8c0>,\n",
              " <Reaction ACt2r at 0x7e1b1444c5b0>,\n",
              " <Reaction ADK1 at 0x7e1b1444c7f0>,\n",
              " <Reaction AKGDH at 0x7e1b1444c9a0>,\n",
              " <Reaction AKGt2r at 0x7e1b143eb2b0>,\n",
              " <Reaction ALCD2x at 0x7e1b143eabc0>,\n",
              " <Reaction ATPM at 0x7e1b143eace0>,\n",
              " <Reaction ATPS4r at 0x7e1b1444da50>,\n",
              " <Reaction Biomass_Ecoli_core at 0x7e1b1444c0d0>,\n",
              " <Reaction CO2t at 0x7e1b143e9000>,\n",
              " <Reaction CS at 0x7e1b143ea3e0>,\n",
              " <Reaction CYTBD at 0x7e1b143e9630>,\n",
              " <Reaction D_LACt2 at 0x7e1b143ead40>,\n",
              " <Reaction ENO at 0x7e1b143cf820>,\n",
              " <Reaction ETOHt2r at 0x7e1b143cfa00>,\n",
              " <Reaction EX_ac_e at 0x7e1b143e9660>,\n",
              " <Reaction EX_acald_e at 0x7e1b143ea740>,\n",
              " <Reaction EX_akg_e at 0x7e1b143e98a0>,\n",
              " <Reaction EX_co2_e at 0x7e1b143e98d0>,\n",
              " <Reaction EX_etoh_e at 0x7e1b143ced10>,\n",
              " <Reaction EX_for_e at 0x7e1b143cebf0>,\n",
              " <Reaction EX_fru_e at 0x7e1b143cead0>,\n",
              " <Reaction EX_fum_e at 0x7e1b143ce9b0>,\n",
              " <Reaction EX_glc__D_e at 0x7e1b143ce890>,\n",
              " <Reaction EX_gln__L_e at 0x7e1b143ce770>,\n",
              " <Reaction EX_glu__L_e at 0x7e1b143ce650>,\n",
              " <Reaction EX_h_e at 0x7e1b143ce530>,\n",
              " <Reaction EX_h2o_e at 0x7e1b143ce410>,\n",
              " <Reaction EX_lac__D_e at 0x7e1b143ce2f0>,\n",
              " <Reaction EX_mal__L_e at 0x7e1b143ce1d0>,\n",
              " <Reaction EX_nh4_e at 0x7e1b143ce0b0>,\n",
              " <Reaction EX_o2_e at 0x7e1b143cdf90>,\n",
              " <Reaction EX_pi_e at 0x7e1b143cde70>,\n",
              " <Reaction EX_pyr_e at 0x7e1b143cdd50>,\n",
              " <Reaction EX_succ_e at 0x7e1b143cdc30>,\n",
              " <Reaction FBA at 0x7e1b143cdb10>,\n",
              " <Reaction FBP at 0x7e1b143cd9f0>,\n",
              " <Reaction FORt2 at 0x7e1b143cd300>,\n",
              " <Reaction FORti at 0x7e1b143cd0f0>,\n",
              " <Reaction FRD7 at 0x7e1b143cccd0>,\n",
              " <Reaction FRUpts2 at 0x7e1b143cc850>,\n",
              " <Reaction FUM at 0x7e1b143cc1c0>,\n",
              " <Reaction FUMt2_2 at 0x7e1b143afb50>,\n",
              " <Reaction G6PDH2r at 0x7e1b143e99c0>,\n",
              " <Reaction GAPD at 0x7e1b143afa30>,\n",
              " <Reaction GLCpts at 0x7e1b143af2e0>,\n",
              " <Reaction GLNS at 0x7e1b143aee30>,\n",
              " <Reaction GLNabc at 0x7e1b143adf60>,\n",
              " <Reaction GLUDy at 0x7e1b143ae5f0>,\n",
              " <Reaction GLUN at 0x7e1b143ad4b0>,\n",
              " <Reaction GLUSy at 0x7e1b143ae1d0>,\n",
              " <Reaction GLUt2r at 0x7e1b143aca90>,\n",
              " <Reaction GND at 0x7e1b143ac880>,\n",
              " <Reaction H2Ot at 0x7e1b143acaf0>,\n",
              " <Reaction ICDHyr at 0x7e1b143ac0d0>,\n",
              " <Reaction ICL at 0x7e1b14327b50>,\n",
              " <Reaction LDH_D at 0x7e1b14327b20>,\n",
              " <Reaction MALS at 0x7e1b14327760>,\n",
              " <Reaction MALt2_2 at 0x7e1b14326f20>,\n",
              " <Reaction MDH at 0x7e1b14326bc0>,\n",
              " <Reaction ME1 at 0x7e1b14326b90>,\n",
              " <Reaction ME2 at 0x7e1b14326380>,\n",
              " <Reaction NADH16 at 0x7e1b14325f60>,\n",
              " <Reaction NADTRHD at 0x7e1b14325b40>,\n",
              " <Reaction NH4t at 0x7e1b14324b80>,\n",
              " <Reaction O2t at 0x7e1b14325060>,\n",
              " <Reaction PDH at 0x7e1b14325360>,\n",
              " <Reaction PFK at 0x7e1b14325180>,\n",
              " <Reaction PFL at 0x7e1b14324a90>,\n",
              " <Reaction PGI at 0x7e1b1412c820>,\n",
              " <Reaction PGK at 0x7e1b1412d510>,\n",
              " <Reaction PGL at 0x7e1b1412cdf0>,\n",
              " <Reaction PGM at 0x7e1b1412ce80>,\n",
              " <Reaction PIt2r at 0x7e1b1412d8d0>,\n",
              " <Reaction PPC at 0x7e1b1412ded0>,\n",
              " <Reaction PPCK at 0x7e1b1412e0e0>,\n",
              " <Reaction PPS at 0x7e1b1412de70>,\n",
              " <Reaction PTAr at 0x7e1b1412e8c0>,\n",
              " <Reaction PYK at 0x7e1b1412e410>,\n",
              " <Reaction PYRt2 at 0x7e1b1412f430>,\n",
              " <Reaction RPE at 0x7e1b143cc6a0>,\n",
              " <Reaction RPI at 0x7e1b143cc520>,\n",
              " <Reaction SUCCt2_2 at 0x7e1b1412faf0>,\n",
              " <Reaction SUCCt3 at 0x7e1b1412f610>,\n",
              " <Reaction SUCDi at 0x7e1b1412fe80>,\n",
              " <Reaction SUCOAS at 0x7e1b1412f7c0>,\n",
              " <Reaction TALA at 0x7e1b1414d000>,\n",
              " <Reaction THD2 at 0x7e1b1414cfd0>,\n",
              " <Reaction TKT1 at 0x7e1b1414d7b0>,\n",
              " <Reaction TKT2 at 0x7e1b1414dc30>,\n",
              " <Reaction TPI at 0x7e1b1414e1d0>]"
            ]
          },
          "metadata": {},
          "execution_count": 10
        }
      ]
    },
    {
      "cell_type": "code",
      "source": [
        "# Verificar el identificador correcto de la reacción de biomasa\n",
        "for reaction in model.reactions:\n",
        "    print(reaction.id)"
      ],
      "metadata": {
        "colab": {
          "base_uri": "https://localhost:8080/"
        },
        "id": "t5FA_cDwf1fe",
        "outputId": "89105ced-de27-4648-ea9e-05fa29696551"
      },
      "execution_count": null,
      "outputs": [
        {
          "output_type": "stream",
          "name": "stdout",
          "text": [
            "ACALD\n",
            "ACALDt\n",
            "ACKr\n",
            "ACONTa\n",
            "ACONTb\n",
            "ACt2r\n",
            "ADK1\n",
            "AKGDH\n",
            "AKGt2r\n",
            "ALCD2x\n",
            "ATPM\n",
            "ATPS4r\n",
            "Biomass_Ecoli_core\n",
            "CO2t\n",
            "CS\n",
            "CYTBD\n",
            "D_LACt2\n",
            "ENO\n",
            "ETOHt2r\n",
            "EX_ac_e\n",
            "EX_acald_e\n",
            "EX_akg_e\n",
            "EX_co2_e\n",
            "EX_etoh_e\n",
            "EX_for_e\n",
            "EX_fru_e\n",
            "EX_fum_e\n",
            "EX_glc__D_e\n",
            "EX_gln__L_e\n",
            "EX_glu__L_e\n",
            "EX_h_e\n",
            "EX_h2o_e\n",
            "EX_lac__D_e\n",
            "EX_mal__L_e\n",
            "EX_nh4_e\n",
            "EX_o2_e\n",
            "EX_pi_e\n",
            "EX_pyr_e\n",
            "EX_succ_e\n",
            "FBA\n",
            "FBP\n",
            "FORt2\n",
            "FORti\n",
            "FRD7\n",
            "FRUpts2\n",
            "FUM\n",
            "FUMt2_2\n",
            "G6PDH2r\n",
            "GAPD\n",
            "GLCpts\n",
            "GLNS\n",
            "GLNabc\n",
            "GLUDy\n",
            "GLUN\n",
            "GLUSy\n",
            "GLUt2r\n",
            "GND\n",
            "H2Ot\n",
            "ICDHyr\n",
            "ICL\n",
            "LDH_D\n",
            "MALS\n",
            "MALt2_2\n",
            "MDH\n",
            "ME1\n",
            "ME2\n",
            "NADH16\n",
            "NADTRHD\n",
            "NH4t\n",
            "O2t\n",
            "PDH\n",
            "PFK\n",
            "PFL\n",
            "PGI\n",
            "PGK\n",
            "PGL\n",
            "PGM\n",
            "PIt2r\n",
            "PPC\n",
            "PPCK\n",
            "PPS\n",
            "PTAr\n",
            "PYK\n",
            "PYRt2\n",
            "RPE\n",
            "RPI\n",
            "SUCCt2_2\n",
            "SUCCt3\n",
            "SUCDi\n",
            "SUCOAS\n",
            "TALA\n",
            "THD2\n",
            "TKT1\n",
            "TKT2\n",
            "TPI\n"
          ]
        }
      ]
    },
    {
      "cell_type": "markdown",
      "source": [],
      "metadata": {
        "id": "lJ6ucUjjeGvj"
      }
    },
    {
      "cell_type": "code",
      "source": [
        "# Asignar la función objetivo: biomasa\n",
        "model.objective = 'Biomass_Ecoli_core'"
      ],
      "metadata": {
        "id": "bXLiVuEteLVC"
      },
      "execution_count": null,
      "outputs": []
    },
    {
      "cell_type": "markdown",
      "source": [
        "Límite de glucosa: Establecemos un límite para el flujo de entrada de glucosa, que es una fuente importante de carbono en el metabolismo de E. coli."
      ],
      "metadata": {
        "id": "peQsQkjHg3H8"
      }
    },
    {
      "cell_type": "code",
      "source": [
        "# Limitar la disponibilidad de glucosa (entrada a través de EX_glc__D_e)\n",
        "model.reactions.get_by_id('EX_glc__D_e').lower_bound = -10.0  # mmol/gDW/h\n"
      ],
      "metadata": {
        "id": "ahIvhnn4gO9s"
      },
      "execution_count": null,
      "outputs": []
    },
    {
      "cell_type": "markdown",
      "source": [
        "\n",
        "\n",
        "El valor \"10.0\" en -10.0 mmol/gDW/h indica que la célula tiene permitido consumir hasta 10 mmol de glucosa por gramo de peso seco de célula (gDW) por hora.\n",
        "\n",
        "Esta cantidad refleja la velocidad máxima de consumo de glucosa. En este caso, limitamos el flujo de entrada de glucosa a 10 mmol/gDW/h para simular una situación donde la disponibilidad de glucosa es limitada, algo que se puede observar en cultivos controlados o condiciones experimentales.\n",
        "\n",
        "\n",
        "En FBA, los signos de los flujos tienen una interpretación importante:\n",
        "Un flujo negativo en una reacción de intercambio (como 'EX_glc__D_e', que representa el intercambio de glucosa entre la célula y el entorno) significa que la célula consume glucosa desde el medio externo.\n",
        "Un flujo positivo en una reacción de intercambio significaría que el compuesto se está produciendo o excretando por la célula al medio.\n",
        "En el caso de la glucosa:\n",
        "\n",
        "Un flujo negativo, como -10.0, significa que la célula está importando glucosa desde el medio externo hacia su interior a una tasa máxima de 10 mmol/gDW/h."
      ],
      "metadata": {
        "id": "1t8KJW8Yibwt"
      }
    },
    {
      "cell_type": "markdown",
      "source": [
        "Optimización: Realizamos el análisis de balance de flujo (FBA) para maximizar el crecimiento celular."
      ],
      "metadata": {
        "id": "6_9cmgDug7T8"
      }
    },
    {
      "cell_type": "code",
      "source": [
        "# Ejecutar la optimización del modelo\n",
        "solution = model.optimize()"
      ],
      "metadata": {
        "id": "yfRve-F_gQmI"
      },
      "execution_count": null,
      "outputs": []
    },
    {
      "cell_type": "code",
      "source": [
        "# Mostrar el valor de la función objetivo (tasa de crecimiento)\n",
        "print(f\"Tasa de crecimiento: {solution.objective_value:.4f} h^-1\")"
      ],
      "metadata": {
        "colab": {
          "base_uri": "https://localhost:8080/"
        },
        "id": "DbO3ZZFngoC1",
        "outputId": "37c5b8f3-15cc-48c0-e37c-852fa035db8b"
      },
      "execution_count": null,
      "outputs": [
        {
          "output_type": "stream",
          "name": "stdout",
          "text": [
            "Tasa de crecimiento: 0.8739 h^-1\n"
          ]
        }
      ]
    },
    {
      "cell_type": "markdown",
      "source": [
        "\n",
        "La tasa de crecimiento que obtienes al optimizar el modelo metabólico en COBRApy, específicamente en análisis de balance de flujo (FBA), generalmente tiene unidades de h⁻¹ (inverso de horas). Esto indica la fracción del crecimiento celular por hora, conocida como tasa específica de crecimiento.\n",
        "\n",
        "![image.png](data:image/png;base64,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)"
      ],
      "metadata": {
        "id": "hMwtLOmUhG0Z"
      }
    },
    {
      "cell_type": "markdown",
      "source": [
        "Producción de acetato: Al final, obtenemos el flujo de producción de acetato (reacción 'EX_ac_e'), que es un subproducto importante en muchas condiciones de cultivo de E. coli."
      ],
      "metadata": {
        "id": "U9bxQK2tg-Pc"
      }
    },
    {
      "cell_type": "code",
      "source": [
        "# Obtener el flujo de la reacción de producción de acetato (EX_ac_e)\n",
        "acetate_flux = model.reactions.get_by_id('EX_ac_e').flux\n",
        "print(f\"Producción de acetato: {acetate_flux:.4f} mmol/gDW/h\")"
      ],
      "metadata": {
        "colab": {
          "base_uri": "https://localhost:8080/"
        },
        "id": "c0ky81tdgsCs",
        "outputId": "4b54537f-ada4-4bbc-d04b-4c8de3a2e754"
      },
      "execution_count": null,
      "outputs": [
        {
          "output_type": "stream",
          "name": "stdout",
          "text": [
            "Producción de acetato: 0.0000 mmol/gDW/h\n"
          ]
        }
      ]
    }
  ]
}