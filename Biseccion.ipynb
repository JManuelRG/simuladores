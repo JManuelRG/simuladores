{
  "nbformat": 4,
  "nbformat_minor": 0,
  "metadata": {
    "colab": {
      "provenance": [],
      "authorship_tag": "ABX9TyMEouGdHtqHp24lJbHgcDD2",
      "include_colab_link": true
    },
    "kernelspec": {
      "name": "python3",
      "display_name": "Python 3"
    },
    "language_info": {
      "name": "python"
    },
    "widgets": {
      "application/vnd.jupyter.widget-state+json": {
        "ce0fda4231ee4b0ba19842fb78bfe941": {
          "model_module": "@jupyter-widgets/controls",
          "model_name": "TextModel",
          "model_module_version": "1.5.0",
          "state": {
            "_dom_classes": [],
            "_model_module": "@jupyter-widgets/controls",
            "_model_module_version": "1.5.0",
            "_model_name": "TextModel",
            "_view_count": null,
            "_view_module": "@jupyter-widgets/controls",
            "_view_module_version": "1.5.0",
            "_view_name": "TextView",
            "continuous_update": true,
            "description": "Función f(x):",
            "description_tooltip": null,
            "disabled": false,
            "layout": "IPY_MODEL_42d929f416604b23b889019fb3dd48bf",
            "placeholder": "​",
            "style": "IPY_MODEL_2d86151fc72d403589cf44cb7c14bb75",
            "value": "x**2"
          }
        },
        "42d929f416604b23b889019fb3dd48bf": {
          "model_module": "@jupyter-widgets/base",
          "model_name": "LayoutModel",
          "model_module_version": "1.2.0",
          "state": {
            "_model_module": "@jupyter-widgets/base",
            "_model_module_version": "1.2.0",
            "_model_name": "LayoutModel",
            "_view_count": null,
            "_view_module": "@jupyter-widgets/base",
            "_view_module_version": "1.2.0",
            "_view_name": "LayoutView",
            "align_content": null,
            "align_items": null,
            "align_self": null,
            "border": null,
            "bottom": null,
            "display": null,
            "flex": null,
            "flex_flow": null,
            "grid_area": null,
            "grid_auto_columns": null,
            "grid_auto_flow": null,
            "grid_auto_rows": null,
            "grid_column": null,
            "grid_gap": null,
            "grid_row": null,
            "grid_template_areas": null,
            "grid_template_columns": null,
            "grid_template_rows": null,
            "height": null,
            "justify_content": null,
            "justify_items": null,
            "left": null,
            "margin": null,
            "max_height": null,
            "max_width": null,
            "min_height": null,
            "min_width": null,
            "object_fit": null,
            "object_position": null,
            "order": null,
            "overflow": null,
            "overflow_x": null,
            "overflow_y": null,
            "padding": null,
            "right": null,
            "top": null,
            "visibility": null,
            "width": null
          }
        },
        "2d86151fc72d403589cf44cb7c14bb75": {
          "model_module": "@jupyter-widgets/controls",
          "model_name": "DescriptionStyleModel",
          "model_module_version": "1.5.0",
          "state": {
            "_model_module": "@jupyter-widgets/controls",
            "_model_module_version": "1.5.0",
            "_model_name": "DescriptionStyleModel",
            "_view_count": null,
            "_view_module": "@jupyter-widgets/base",
            "_view_module_version": "1.2.0",
            "_view_name": "StyleView",
            "description_width": ""
          }
        },
        "0bbf30c679a94e10be0353c1fdfcfbd1": {
          "model_module": "@jupyter-widgets/controls",
          "model_name": "TextModel",
          "model_module_version": "1.5.0",
          "state": {
            "_dom_classes": [],
            "_model_module": "@jupyter-widgets/controls",
            "_model_module_version": "1.5.0",
            "_model_name": "TextModel",
            "_view_count": null,
            "_view_module": "@jupyter-widgets/controls",
            "_view_module_version": "1.5.0",
            "_view_name": "TextView",
            "continuous_update": true,
            "description": "Límite inferior (a):",
            "description_tooltip": null,
            "disabled": false,
            "layout": "IPY_MODEL_f44dd51d2afe44b2b50c940331174f1d",
            "placeholder": "​",
            "style": "IPY_MODEL_55b81ffe4a1a499fbd95a802b5d80541",
            "value": "-10"
          }
        },
        "f44dd51d2afe44b2b50c940331174f1d": {
          "model_module": "@jupyter-widgets/base",
          "model_name": "LayoutModel",
          "model_module_version": "1.2.0",
          "state": {
            "_model_module": "@jupyter-widgets/base",
            "_model_module_version": "1.2.0",
            "_model_name": "LayoutModel",
            "_view_count": null,
            "_view_module": "@jupyter-widgets/base",
            "_view_module_version": "1.2.0",
            "_view_name": "LayoutView",
            "align_content": null,
            "align_items": null,
            "align_self": null,
            "border": null,
            "bottom": null,
            "display": null,
            "flex": null,
            "flex_flow": null,
            "grid_area": null,
            "grid_auto_columns": null,
            "grid_auto_flow": null,
            "grid_auto_rows": null,
            "grid_column": null,
            "grid_gap": null,
            "grid_row": null,
            "grid_template_areas": null,
            "grid_template_columns": null,
            "grid_template_rows": null,
            "height": null,
            "justify_content": null,
            "justify_items": null,
            "left": null,
            "margin": null,
            "max_height": null,
            "max_width": null,
            "min_height": null,
            "min_width": null,
            "object_fit": null,
            "object_position": null,
            "order": null,
            "overflow": null,
            "overflow_x": null,
            "overflow_y": null,
            "padding": null,
            "right": null,
            "top": null,
            "visibility": null,
            "width": null
          }
        },
        "55b81ffe4a1a499fbd95a802b5d80541": {
          "model_module": "@jupyter-widgets/controls",
          "model_name": "DescriptionStyleModel",
          "model_module_version": "1.5.0",
          "state": {
            "_model_module": "@jupyter-widgets/controls",
            "_model_module_version": "1.5.0",
            "_model_name": "DescriptionStyleModel",
            "_view_count": null,
            "_view_module": "@jupyter-widgets/base",
            "_view_module_version": "1.2.0",
            "_view_name": "StyleView",
            "description_width": ""
          }
        },
        "ed8f42feeefe4b528f661d1f2446e17b": {
          "model_module": "@jupyter-widgets/controls",
          "model_name": "TextModel",
          "model_module_version": "1.5.0",
          "state": {
            "_dom_classes": [],
            "_model_module": "@jupyter-widgets/controls",
            "_model_module_version": "1.5.0",
            "_model_name": "TextModel",
            "_view_count": null,
            "_view_module": "@jupyter-widgets/controls",
            "_view_module_version": "1.5.0",
            "_view_name": "TextView",
            "continuous_update": true,
            "description": "Límite superior (b):",
            "description_tooltip": null,
            "disabled": false,
            "layout": "IPY_MODEL_f0c945194a16480b8578f2e99c482687",
            "placeholder": "​",
            "style": "IPY_MODEL_75ebbd08db644fc28e635e0e5110edd6",
            "value": "10"
          }
        },
        "f0c945194a16480b8578f2e99c482687": {
          "model_module": "@jupyter-widgets/base",
          "model_name": "LayoutModel",
          "model_module_version": "1.2.0",
          "state": {
            "_model_module": "@jupyter-widgets/base",
            "_model_module_version": "1.2.0",
            "_model_name": "LayoutModel",
            "_view_count": null,
            "_view_module": "@jupyter-widgets/base",
            "_view_module_version": "1.2.0",
            "_view_name": "LayoutView",
            "align_content": null,
            "align_items": null,
            "align_self": null,
            "border": null,
            "bottom": null,
            "display": null,
            "flex": null,
            "flex_flow": null,
            "grid_area": null,
            "grid_auto_columns": null,
            "grid_auto_flow": null,
            "grid_auto_rows": null,
            "grid_column": null,
            "grid_gap": null,
            "grid_row": null,
            "grid_template_areas": null,
            "grid_template_columns": null,
            "grid_template_rows": null,
            "height": null,
            "justify_content": null,
            "justify_items": null,
            "left": null,
            "margin": null,
            "max_height": null,
            "max_width": null,
            "min_height": null,
            "min_width": null,
            "object_fit": null,
            "object_position": null,
            "order": null,
            "overflow": null,
            "overflow_x": null,
            "overflow_y": null,
            "padding": null,
            "right": null,
            "top": null,
            "visibility": null,
            "width": null
          }
        },
        "75ebbd08db644fc28e635e0e5110edd6": {
          "model_module": "@jupyter-widgets/controls",
          "model_name": "DescriptionStyleModel",
          "model_module_version": "1.5.0",
          "state": {
            "_model_module": "@jupyter-widgets/controls",
            "_model_module_version": "1.5.0",
            "_model_name": "DescriptionStyleModel",
            "_view_count": null,
            "_view_module": "@jupyter-widgets/base",
            "_view_module_version": "1.2.0",
            "_view_name": "StyleView",
            "description_width": ""
          }
        },
        "f8ce392a5b3a4db686757c934d07ce88": {
          "model_module": "@jupyter-widgets/controls",
          "model_name": "ButtonModel",
          "model_module_version": "1.5.0",
          "state": {
            "_dom_classes": [],
            "_model_module": "@jupyter-widgets/controls",
            "_model_module_version": "1.5.0",
            "_model_name": "ButtonModel",
            "_view_count": null,
            "_view_module": "@jupyter-widgets/controls",
            "_view_module_version": "1.5.0",
            "_view_name": "ButtonView",
            "button_style": "",
            "description": "Graficar",
            "disabled": false,
            "icon": "",
            "layout": "IPY_MODEL_e001ba06d0a945dfbc9be9da704a9777",
            "style": "IPY_MODEL_69d9526ab0af4c04a0456a109e87d667",
            "tooltip": ""
          }
        },
        "e001ba06d0a945dfbc9be9da704a9777": {
          "model_module": "@jupyter-widgets/base",
          "model_name": "LayoutModel",
          "model_module_version": "1.2.0",
          "state": {
            "_model_module": "@jupyter-widgets/base",
            "_model_module_version": "1.2.0",
            "_model_name": "LayoutModel",
            "_view_count": null,
            "_view_module": "@jupyter-widgets/base",
            "_view_module_version": "1.2.0",
            "_view_name": "LayoutView",
            "align_content": null,
            "align_items": null,
            "align_self": null,
            "border": null,
            "bottom": null,
            "display": null,
            "flex": null,
            "flex_flow": null,
            "grid_area": null,
            "grid_auto_columns": null,
            "grid_auto_flow": null,
            "grid_auto_rows": null,
            "grid_column": null,
            "grid_gap": null,
            "grid_row": null,
            "grid_template_areas": null,
            "grid_template_columns": null,
            "grid_template_rows": null,
            "height": null,
            "justify_content": null,
            "justify_items": null,
            "left": null,
            "margin": null,
            "max_height": null,
            "max_width": null,
            "min_height": null,
            "min_width": null,
            "object_fit": null,
            "object_position": null,
            "order": null,
            "overflow": null,
            "overflow_x": null,
            "overflow_y": null,
            "padding": null,
            "right": null,
            "top": null,
            "visibility": null,
            "width": null
          }
        },
        "69d9526ab0af4c04a0456a109e87d667": {
          "model_module": "@jupyter-widgets/controls",
          "model_name": "ButtonStyleModel",
          "model_module_version": "1.5.0",
          "state": {
            "_model_module": "@jupyter-widgets/controls",
            "_model_module_version": "1.5.0",
            "_model_name": "ButtonStyleModel",
            "_view_count": null,
            "_view_module": "@jupyter-widgets/base",
            "_view_module_version": "1.2.0",
            "_view_name": "StyleView",
            "button_color": null,
            "font_weight": ""
          }
        },
        "3e62204e1917407d91470ddada1dfeb1": {
          "model_module": "@jupyter-widgets/controls",
          "model_name": "TextModel",
          "model_module_version": "1.5.0",
          "state": {
            "_dom_classes": [],
            "_model_module": "@jupyter-widgets/controls",
            "_model_module_version": "1.5.0",
            "_model_name": "TextModel",
            "_view_count": null,
            "_view_module": "@jupyter-widgets/controls",
            "_view_module_version": "1.5.0",
            "_view_name": "TextView",
            "continuous_update": true,
            "description": "Función f(x):",
            "description_tooltip": null,
            "disabled": false,
            "layout": "IPY_MODEL_6a63222631bc4c268b931e44db270d7f",
            "placeholder": "​",
            "style": "IPY_MODEL_c2d2944b33874f9db65d138d6b746c81",
            "value": "x**3 - x - 2"
          }
        },
        "6a63222631bc4c268b931e44db270d7f": {
          "model_module": "@jupyter-widgets/base",
          "model_name": "LayoutModel",
          "model_module_version": "1.2.0",
          "state": {
            "_model_module": "@jupyter-widgets/base",
            "_model_module_version": "1.2.0",
            "_model_name": "LayoutModel",
            "_view_count": null,
            "_view_module": "@jupyter-widgets/base",
            "_view_module_version": "1.2.0",
            "_view_name": "LayoutView",
            "align_content": null,
            "align_items": null,
            "align_self": null,
            "border": null,
            "bottom": null,
            "display": null,
            "flex": null,
            "flex_flow": null,
            "grid_area": null,
            "grid_auto_columns": null,
            "grid_auto_flow": null,
            "grid_auto_rows": null,
            "grid_column": null,
            "grid_gap": null,
            "grid_row": null,
            "grid_template_areas": null,
            "grid_template_columns": null,
            "grid_template_rows": null,
            "height": null,
            "justify_content": null,
            "justify_items": null,
            "left": null,
            "margin": null,
            "max_height": null,
            "max_width": null,
            "min_height": null,
            "min_width": null,
            "object_fit": null,
            "object_position": null,
            "order": null,
            "overflow": null,
            "overflow_x": null,
            "overflow_y": null,
            "padding": null,
            "right": null,
            "top": null,
            "visibility": null,
            "width": null
          }
        },
        "c2d2944b33874f9db65d138d6b746c81": {
          "model_module": "@jupyter-widgets/controls",
          "model_name": "DescriptionStyleModel",
          "model_module_version": "1.5.0",
          "state": {
            "_model_module": "@jupyter-widgets/controls",
            "_model_module_version": "1.5.0",
            "_model_name": "DescriptionStyleModel",
            "_view_count": null,
            "_view_module": "@jupyter-widgets/base",
            "_view_module_version": "1.2.0",
            "_view_name": "StyleView",
            "description_width": ""
          }
        },
        "104dc1a307e84c41803f9416aa5d7a90": {
          "model_module": "@jupyter-widgets/controls",
          "model_name": "TextModel",
          "model_module_version": "1.5.0",
          "state": {
            "_dom_classes": [],
            "_model_module": "@jupyter-widgets/controls",
            "_model_module_version": "1.5.0",
            "_model_name": "TextModel",
            "_view_count": null,
            "_view_module": "@jupyter-widgets/controls",
            "_view_module_version": "1.5.0",
            "_view_name": "TextView",
            "continuous_update": true,
            "description": "a:",
            "description_tooltip": null,
            "disabled": false,
            "layout": "IPY_MODEL_985497676f5f4651bd8f58038abedbd9",
            "placeholder": "​",
            "style": "IPY_MODEL_de336d8cf2404ad7b5497093307907f1",
            "value": "-3"
          }
        },
        "985497676f5f4651bd8f58038abedbd9": {
          "model_module": "@jupyter-widgets/base",
          "model_name": "LayoutModel",
          "model_module_version": "1.2.0",
          "state": {
            "_model_module": "@jupyter-widgets/base",
            "_model_module_version": "1.2.0",
            "_model_name": "LayoutModel",
            "_view_count": null,
            "_view_module": "@jupyter-widgets/base",
            "_view_module_version": "1.2.0",
            "_view_name": "LayoutView",
            "align_content": null,
            "align_items": null,
            "align_self": null,
            "border": null,
            "bottom": null,
            "display": null,
            "flex": null,
            "flex_flow": null,
            "grid_area": null,
            "grid_auto_columns": null,
            "grid_auto_flow": null,
            "grid_auto_rows": null,
            "grid_column": null,
            "grid_gap": null,
            "grid_row": null,
            "grid_template_areas": null,
            "grid_template_columns": null,
            "grid_template_rows": null,
            "height": null,
            "justify_content": null,
            "justify_items": null,
            "left": null,
            "margin": null,
            "max_height": null,
            "max_width": null,
            "min_height": null,
            "min_width": null,
            "object_fit": null,
            "object_position": null,
            "order": null,
            "overflow": null,
            "overflow_x": null,
            "overflow_y": null,
            "padding": null,
            "right": null,
            "top": null,
            "visibility": null,
            "width": null
          }
        },
        "de336d8cf2404ad7b5497093307907f1": {
          "model_module": "@jupyter-widgets/controls",
          "model_name": "DescriptionStyleModel",
          "model_module_version": "1.5.0",
          "state": {
            "_model_module": "@jupyter-widgets/controls",
            "_model_module_version": "1.5.0",
            "_model_name": "DescriptionStyleModel",
            "_view_count": null,
            "_view_module": "@jupyter-widgets/base",
            "_view_module_version": "1.2.0",
            "_view_name": "StyleView",
            "description_width": ""
          }
        },
        "a4373cc6474c42c6ae2aa9c4e023535c": {
          "model_module": "@jupyter-widgets/controls",
          "model_name": "TextModel",
          "model_module_version": "1.5.0",
          "state": {
            "_dom_classes": [],
            "_model_module": "@jupyter-widgets/controls",
            "_model_module_version": "1.5.0",
            "_model_name": "TextModel",
            "_view_count": null,
            "_view_module": "@jupyter-widgets/controls",
            "_view_module_version": "1.5.0",
            "_view_name": "TextView",
            "continuous_update": true,
            "description": "b:",
            "description_tooltip": null,
            "disabled": false,
            "layout": "IPY_MODEL_2c13cf51326b4b04a496c502a8dc9f44",
            "placeholder": "​",
            "style": "IPY_MODEL_e8fc971fafd744148768be35d4a9f430",
            "value": "3"
          }
        },
        "2c13cf51326b4b04a496c502a8dc9f44": {
          "model_module": "@jupyter-widgets/base",
          "model_name": "LayoutModel",
          "model_module_version": "1.2.0",
          "state": {
            "_model_module": "@jupyter-widgets/base",
            "_model_module_version": "1.2.0",
            "_model_name": "LayoutModel",
            "_view_count": null,
            "_view_module": "@jupyter-widgets/base",
            "_view_module_version": "1.2.0",
            "_view_name": "LayoutView",
            "align_content": null,
            "align_items": null,
            "align_self": null,
            "border": null,
            "bottom": null,
            "display": null,
            "flex": null,
            "flex_flow": null,
            "grid_area": null,
            "grid_auto_columns": null,
            "grid_auto_flow": null,
            "grid_auto_rows": null,
            "grid_column": null,
            "grid_gap": null,
            "grid_row": null,
            "grid_template_areas": null,
            "grid_template_columns": null,
            "grid_template_rows": null,
            "height": null,
            "justify_content": null,
            "justify_items": null,
            "left": null,
            "margin": null,
            "max_height": null,
            "max_width": null,
            "min_height": null,
            "min_width": null,
            "object_fit": null,
            "object_position": null,
            "order": null,
            "overflow": null,
            "overflow_x": null,
            "overflow_y": null,
            "padding": null,
            "right": null,
            "top": null,
            "visibility": null,
            "width": null
          }
        },
        "e8fc971fafd744148768be35d4a9f430": {
          "model_module": "@jupyter-widgets/controls",
          "model_name": "DescriptionStyleModel",
          "model_module_version": "1.5.0",
          "state": {
            "_model_module": "@jupyter-widgets/controls",
            "_model_module_version": "1.5.0",
            "_model_name": "DescriptionStyleModel",
            "_view_count": null,
            "_view_module": "@jupyter-widgets/base",
            "_view_module_version": "1.2.0",
            "_view_name": "StyleView",
            "description_width": ""
          }
        },
        "65a9cdbd8efe4520ab886e250be4b6b2": {
          "model_module": "@jupyter-widgets/controls",
          "model_name": "TextModel",
          "model_module_version": "1.5.0",
          "state": {
            "_dom_classes": [],
            "_model_module": "@jupyter-widgets/controls",
            "_model_module_version": "1.5.0",
            "_model_name": "TextModel",
            "_view_count": null,
            "_view_module": "@jupyter-widgets/controls",
            "_view_module_version": "1.5.0",
            "_view_name": "TextView",
            "continuous_update": true,
            "description": "Tolerancia:",
            "description_tooltip": null,
            "disabled": false,
            "layout": "IPY_MODEL_00e031fc400d4da890a7a3dc08196831",
            "placeholder": "​",
            "style": "IPY_MODEL_a6c171ad278441299291af6940356fb1",
            "value": "0.001"
          }
        },
        "00e031fc400d4da890a7a3dc08196831": {
          "model_module": "@jupyter-widgets/base",
          "model_name": "LayoutModel",
          "model_module_version": "1.2.0",
          "state": {
            "_model_module": "@jupyter-widgets/base",
            "_model_module_version": "1.2.0",
            "_model_name": "LayoutModel",
            "_view_count": null,
            "_view_module": "@jupyter-widgets/base",
            "_view_module_version": "1.2.0",
            "_view_name": "LayoutView",
            "align_content": null,
            "align_items": null,
            "align_self": null,
            "border": null,
            "bottom": null,
            "display": null,
            "flex": null,
            "flex_flow": null,
            "grid_area": null,
            "grid_auto_columns": null,
            "grid_auto_flow": null,
            "grid_auto_rows": null,
            "grid_column": null,
            "grid_gap": null,
            "grid_row": null,
            "grid_template_areas": null,
            "grid_template_columns": null,
            "grid_template_rows": null,
            "height": null,
            "justify_content": null,
            "justify_items": null,
            "left": null,
            "margin": null,
            "max_height": null,
            "max_width": null,
            "min_height": null,
            "min_width": null,
            "object_fit": null,
            "object_position": null,
            "order": null,
            "overflow": null,
            "overflow_x": null,
            "overflow_y": null,
            "padding": null,
            "right": null,
            "top": null,
            "visibility": null,
            "width": null
          }
        },
        "a6c171ad278441299291af6940356fb1": {
          "model_module": "@jupyter-widgets/controls",
          "model_name": "DescriptionStyleModel",
          "model_module_version": "1.5.0",
          "state": {
            "_model_module": "@jupyter-widgets/controls",
            "_model_module_version": "1.5.0",
            "_model_name": "DescriptionStyleModel",
            "_view_count": null,
            "_view_module": "@jupyter-widgets/base",
            "_view_module_version": "1.2.0",
            "_view_name": "StyleView",
            "description_width": ""
          }
        },
        "ec99f6c31cb1456a87f84ecad1d62bb6": {
          "model_module": "@jupyter-widgets/controls",
          "model_name": "TextModel",
          "model_module_version": "1.5.0",
          "state": {
            "_dom_classes": [],
            "_model_module": "@jupyter-widgets/controls",
            "_model_module_version": "1.5.0",
            "_model_name": "TextModel",
            "_view_count": null,
            "_view_module": "@jupyter-widgets/controls",
            "_view_module_version": "1.5.0",
            "_view_name": "TextView",
            "continuous_update": true,
            "description": "Máx. Iteraciones:",
            "description_tooltip": null,
            "disabled": false,
            "layout": "IPY_MODEL_de662cfd7a164be192795170ce79ebaf",
            "placeholder": "​",
            "style": "IPY_MODEL_8bc35ef67cdf453fbd37c06e9cd06c3e",
            "value": "50"
          }
        },
        "de662cfd7a164be192795170ce79ebaf": {
          "model_module": "@jupyter-widgets/base",
          "model_name": "LayoutModel",
          "model_module_version": "1.2.0",
          "state": {
            "_model_module": "@jupyter-widgets/base",
            "_model_module_version": "1.2.0",
            "_model_name": "LayoutModel",
            "_view_count": null,
            "_view_module": "@jupyter-widgets/base",
            "_view_module_version": "1.2.0",
            "_view_name": "LayoutView",
            "align_content": null,
            "align_items": null,
            "align_self": null,
            "border": null,
            "bottom": null,
            "display": null,
            "flex": null,
            "flex_flow": null,
            "grid_area": null,
            "grid_auto_columns": null,
            "grid_auto_flow": null,
            "grid_auto_rows": null,
            "grid_column": null,
            "grid_gap": null,
            "grid_row": null,
            "grid_template_areas": null,
            "grid_template_columns": null,
            "grid_template_rows": null,
            "height": null,
            "justify_content": null,
            "justify_items": null,
            "left": null,
            "margin": null,
            "max_height": null,
            "max_width": null,
            "min_height": null,
            "min_width": null,
            "object_fit": null,
            "object_position": null,
            "order": null,
            "overflow": null,
            "overflow_x": null,
            "overflow_y": null,
            "padding": null,
            "right": null,
            "top": null,
            "visibility": null,
            "width": null
          }
        },
        "8bc35ef67cdf453fbd37c06e9cd06c3e": {
          "model_module": "@jupyter-widgets/controls",
          "model_name": "DescriptionStyleModel",
          "model_module_version": "1.5.0",
          "state": {
            "_model_module": "@jupyter-widgets/controls",
            "_model_module_version": "1.5.0",
            "_model_name": "DescriptionStyleModel",
            "_view_count": null,
            "_view_module": "@jupyter-widgets/base",
            "_view_module_version": "1.2.0",
            "_view_name": "StyleView",
            "description_width": ""
          }
        },
        "fae1854b536d441c98e62c1d39b63d8c": {
          "model_module": "@jupyter-widgets/controls",
          "model_name": "ButtonModel",
          "model_module_version": "1.5.0",
          "state": {
            "_dom_classes": [],
            "_model_module": "@jupyter-widgets/controls",
            "_model_module_version": "1.5.0",
            "_model_name": "ButtonModel",
            "_view_count": null,
            "_view_module": "@jupyter-widgets/controls",
            "_view_module_version": "1.5.0",
            "_view_name": "ButtonView",
            "button_style": "",
            "description": "Calcular",
            "disabled": false,
            "icon": "",
            "layout": "IPY_MODEL_01b73bc1774748e8ba34a03dc09e43f0",
            "style": "IPY_MODEL_fd03b5bfcf544c04bcd6418e00b69e97",
            "tooltip": ""
          }
        },
        "01b73bc1774748e8ba34a03dc09e43f0": {
          "model_module": "@jupyter-widgets/base",
          "model_name": "LayoutModel",
          "model_module_version": "1.2.0",
          "state": {
            "_model_module": "@jupyter-widgets/base",
            "_model_module_version": "1.2.0",
            "_model_name": "LayoutModel",
            "_view_count": null,
            "_view_module": "@jupyter-widgets/base",
            "_view_module_version": "1.2.0",
            "_view_name": "LayoutView",
            "align_content": null,
            "align_items": null,
            "align_self": null,
            "border": null,
            "bottom": null,
            "display": null,
            "flex": null,
            "flex_flow": null,
            "grid_area": null,
            "grid_auto_columns": null,
            "grid_auto_flow": null,
            "grid_auto_rows": null,
            "grid_column": null,
            "grid_gap": null,
            "grid_row": null,
            "grid_template_areas": null,
            "grid_template_columns": null,
            "grid_template_rows": null,
            "height": null,
            "justify_content": null,
            "justify_items": null,
            "left": null,
            "margin": null,
            "max_height": null,
            "max_width": null,
            "min_height": null,
            "min_width": null,
            "object_fit": null,
            "object_position": null,
            "order": null,
            "overflow": null,
            "overflow_x": null,
            "overflow_y": null,
            "padding": null,
            "right": null,
            "top": null,
            "visibility": null,
            "width": null
          }
        },
        "fd03b5bfcf544c04bcd6418e00b69e97": {
          "model_module": "@jupyter-widgets/controls",
          "model_name": "ButtonStyleModel",
          "model_module_version": "1.5.0",
          "state": {
            "_model_module": "@jupyter-widgets/controls",
            "_model_module_version": "1.5.0",
            "_model_name": "ButtonStyleModel",
            "_view_count": null,
            "_view_module": "@jupyter-widgets/base",
            "_view_module_version": "1.2.0",
            "_view_name": "StyleView",
            "button_color": null,
            "font_weight": ""
          }
        }
      }
    }
  },
  "cells": [
    {
      "cell_type": "markdown",
      "metadata": {
        "id": "view-in-github",
        "colab_type": "text"
      },
      "source": [
        "<a href=\"https://colab.research.google.com/github/JManuelRG/simuladores/blob/main/Biseccion.ipynb\" target=\"_parent\"><img src=\"https://colab.research.google.com/assets/colab-badge.svg\" alt=\"Open In Colab\"/></a>"
      ]
    },
    {
      "cell_type": "markdown",
      "source": [
        "# Bisección"
      ],
      "metadata": {
        "id": "7O4S6ETpVKmy"
      }
    },
    {
      "cell_type": "markdown",
      "source": [
        "# Lectura de la función\n",
        "Instrucciones:\n",
        "1. Ejecutar la celda no. 1.\n",
        "2. Introducir la función a resolver de la forma:\n",
        "$$f(x)=0$$\n",
        "\n",
        "\n",
        "| Operación   | Operador    |\n",
        "| :---        |        ---: |\n",
        "| Suma        | +           |\n",
        "| Resta       | -           |\n",
        "| Multiplicación | *        |\n",
        "| División       | /        |\n",
        "| Exponenciación | **        |\n",
        "| Exponencial|exp()|\n",
        "|logaritmo natural| log()|\n",
        "|logaritmo base p|log(x, p)|\n",
        "|seno|sin(x)|\n",
        "|coseno|cos(x)|\n",
        "\n",
        "\n",
        " Más funciones matemáticas en sympy:\n",
        " https://docs.sympy.org/latest/index.html\n",
        "\n",
        "\n",
        "3. Introducir los límites de graficación\n",
        "4. Generar el gráfico"
      ],
      "metadata": {
        "id": "IqasgTf7VM23"
      }
    },
    {
      "cell_type": "code",
      "source": [
        "import numpy as np\n",
        "import matplotlib.pyplot as plt\n",
        "from sympy import symbols, lambdify, sympify\n",
        "import ipywidgets as widgets\n",
        "from IPython.display import display, clear_output\n",
        "\n",
        "# Función para evaluar la expresión simbólica\n",
        "def eval_function(expression, x_val):\n",
        "    x = symbols('x')\n",
        "    return lambdify(x, expression, 'numpy')(x_val)\n",
        "\n",
        "# Función para graficar la función\n",
        "def plot_function(expr_str, a, b):\n",
        "    try:\n",
        "        expression = sympify(expr_str)\n",
        "        a = float(a)\n",
        "        b = float(b)\n",
        "\n",
        "        x = np.linspace(a, b, 400)\n",
        "        y = eval_function(expression, x)\n",
        "\n",
        "        plt.figure(figsize=(10, 6))\n",
        "        plt.plot(x, y, label=f'f(x) = {expr_str}')\n",
        "        plt.title('Gráfico de la función')\n",
        "        plt.xlabel('x')\n",
        "        plt.ylabel('f(x)')\n",
        "        plt.grid(True)\n",
        "        plt.legend()\n",
        "        plt.show()\n",
        "    except ValueError as e:\n",
        "        print(f\"Error: {str(e)}\")\n",
        "    except Exception as e:\n",
        "        print(f\"Error en la evaluación de la función: {str(e)}\")\n",
        "\n",
        "# Widgets de entrada\n",
        "func_input = widgets.Text(value='x**2', description='Función f(x):')\n",
        "a_input = widgets.Text(value='-10', description='Límite inferior (a):')\n",
        "b_input = widgets.Text(value='10', description='Límite superior (b):')\n",
        "plot_button = widgets.Button(description=\"Graficar\")\n",
        "\n",
        "# Función para manejar el evento de clic del botón\n",
        "def on_plot_button_clicked(b):\n",
        "    clear_output(wait=True)\n",
        "    display(func_input, a_input, b_input, plot_button)\n",
        "    plot_function(func_input.value, a_input.value, b_input.value)\n",
        "\n",
        "# Asignar el controlador de eventos al botón\n",
        "plot_button.on_click(on_plot_button_clicked)\n",
        "\n",
        "# Mostrar los widgets\n",
        "display(func_input, a_input, b_input, plot_button)\n"
      ],
      "metadata": {
        "colab": {
          "base_uri": "https://localhost:8080/",
          "height": 647,
          "referenced_widgets": [
            "ce0fda4231ee4b0ba19842fb78bfe941",
            "42d929f416604b23b889019fb3dd48bf",
            "2d86151fc72d403589cf44cb7c14bb75",
            "0bbf30c679a94e10be0353c1fdfcfbd1",
            "f44dd51d2afe44b2b50c940331174f1d",
            "55b81ffe4a1a499fbd95a802b5d80541",
            "ed8f42feeefe4b528f661d1f2446e17b",
            "f0c945194a16480b8578f2e99c482687",
            "75ebbd08db644fc28e635e0e5110edd6",
            "f8ce392a5b3a4db686757c934d07ce88",
            "e001ba06d0a945dfbc9be9da704a9777",
            "69d9526ab0af4c04a0456a109e87d667"
          ]
        },
        "id": "3mXHxZpmVJc6",
        "outputId": "601c6c42-4ede-468c-cb00-8983fdfcd4c7"
      },
      "execution_count": 1,
      "outputs": [
        {
          "output_type": "display_data",
          "data": {
            "text/plain": [
              "Text(value='x**2', description='Función f(x):')"
            ],
            "application/vnd.jupyter.widget-view+json": {
              "version_major": 2,
              "version_minor": 0,
              "model_id": "ce0fda4231ee4b0ba19842fb78bfe941"
            }
          },
          "metadata": {}
        },
        {
          "output_type": "display_data",
          "data": {
            "text/plain": [
              "Text(value='-10', description='Límite inferior (a):')"
            ],
            "application/vnd.jupyter.widget-view+json": {
              "version_major": 2,
              "version_minor": 0,
              "model_id": "0bbf30c679a94e10be0353c1fdfcfbd1"
            }
          },
          "metadata": {}
        },
        {
          "output_type": "display_data",
          "data": {
            "text/plain": [
              "Text(value='10', description='Límite superior (b):')"
            ],
            "application/vnd.jupyter.widget-view+json": {
              "version_major": 2,
              "version_minor": 0,
              "model_id": "ed8f42feeefe4b528f661d1f2446e17b"
            }
          },
          "metadata": {}
        },
        {
          "output_type": "display_data",
          "data": {
            "text/plain": [
              "Button(description='Graficar', style=ButtonStyle())"
            ],
            "application/vnd.jupyter.widget-view+json": {
              "version_major": 2,
              "version_minor": 0,
              "model_id": "f8ce392a5b3a4db686757c934d07ce88"
            }
          },
          "metadata": {}
        },
        {
          "output_type": "display_data",
          "data": {
            "text/plain": [
              "<Figure size 1000x600 with 1 Axes>"
            ],
            "image/png": "[encoded data removed]"
          },
          "metadata": {}
        }
      ]
    },
    {
      "cell_type": "markdown",
      "source": [
        "# Método de Bisección"
      ],
      "metadata": {
        "id": "M1MaIYEhV66J"
      }
    },
    {
      "cell_type": "code",
      "source": [
        "import numpy as np\n",
        "import matplotlib.pyplot as plt\n",
        "from sympy import symbols, lambdify, sympify\n",
        "import ipywidgets as widgets\n",
        "from IPython.display import display, clear_output\n",
        "\n",
        "# Función para evaluar la expresión simbólica\n",
        "def eval_function(expression, x_val):\n",
        "    x = symbols('x')\n",
        "    return lambdify(x, expression, 'numpy')(x_val)\n",
        "\n",
        "# Implementación del método de bisección\n",
        "def biseccion(expression, a, b, tol, max_iter):\n",
        "    resultados = []\n",
        "    x = symbols('x')\n",
        "    f = lambdify(x, expression, 'numpy')\n",
        "\n",
        "    if f(a) * f(b) >= 0:\n",
        "        raise ValueError(\"f(a) y f(b) deben tener signos opuestos\")\n",
        "    c = a\n",
        "    for i in range(max_iter):\n",
        "        c = (a + b) / 2\n",
        "        resultados.append((i, a, b, c, f(c)))\n",
        "        if f(c) == 0 or (b - a) / 2 < tol:\n",
        "            break\n",
        "        if f(c) * f(a) < 0:\n",
        "            b = c\n",
        "        else:\n",
        "            a = c\n",
        "    return c, resultados\n",
        "\n",
        "# Función para actualizar la gráfica y la tabla\n",
        "def calcular_raiz(expr_str, a, b, tol, max_iter):\n",
        "    try:\n",
        "        expression = sympify(expr_str)\n",
        "        a = float(a)\n",
        "        b = float(b)\n",
        "        tol = float(tol)\n",
        "        max_iter = int(max_iter)\n",
        "\n",
        "        raiz, resultados = biseccion(expression, a, b, tol, max_iter)\n",
        "\n",
        "        # Actualizar tabla\n",
        "        fig, ax = plt.subplots(figsize=(10, 6))\n",
        "        x = np.linspace(a, b, 400)\n",
        "        y = eval_function(expression, x)\n",
        "        ax.plot(x, y, label=\"f(x)\")\n",
        "        ax.axhline(0, color='black', linewidth=0.5)\n",
        "        ax.axvline(raiz, color='r', linestyle='--', label=f'Raíz aprox: {raiz:.6f}')\n",
        "        ax.legend()\n",
        "        ax.tick_params(axis='both', labelsize=16)\n",
        "        ax.set_title('Método de Bisección', fontsize=18)\n",
        "        ax.set_xlabel('x', fontsize=16)\n",
        "        ax.set_ylabel('f(x)', fontsize=16)\n",
        "\n",
        "        # Añadir texto que marque la solución\n",
        "        ax.text(raiz, 0, f'  x = {raiz:.6f}', fontsize=16, verticalalignment='bottom', color='red')\n",
        "\n",
        "        plt.show()\n",
        "\n",
        "        # Mostrar resultados en tabla\n",
        "        display_resultados(resultados)\n",
        "\n",
        "    except ValueError as e:\n",
        "        print(f\"Error: {str(e)}\")\n",
        "    except Exception as e:\n",
        "        print(f\"Error en la evaluación de la función: {str(e)}\")\n",
        "\n",
        "def display_resultados(resultados):\n",
        "    from IPython.display import HTML, display\n",
        "    html = \"<table><tr><th>Iteración</th><th>a</th><th>b</th><th>c</th><th>f(c)</th></tr>\"\n",
        "    for res in resultados:\n",
        "        html += f\"<tr><td>{res[0]}</td><td>{res[1]:.6f}</td><td>{res[2]:.6f}</td><td>{res[3]:.6f}</td><td>{res[4]:.6f}</td></tr>\"\n",
        "    html += \"</table>\"\n",
        "    display(HTML(html))\n",
        "\n",
        "# Widgets de entrada\n",
        "func_input = widgets.Text(value='x**3 - x - 2', description='Función f(x):')\n",
        "a_input = widgets.Text(value='-3', description='a:')\n",
        "b_input = widgets.Text(value='3', description='b:')\n",
        "tol_input = widgets.Text(value='0.001', description='Tolerancia:')\n",
        "max_iter_input = widgets.Text(value='50', description='Máx. Iteraciones:')\n",
        "calc_button = widgets.Button(description=\"Calcular\")\n",
        "\n",
        "# Función para manejar el evento de clic del botón\n",
        "def on_calc_button_clicked(b):\n",
        "    clear_output(wait=True)\n",
        "    display(func_input, a_input, b_input, tol_input, max_iter_input, calc_button)\n",
        "    calcular_raiz(func_input.value, a_input.value, b_input.value, tol_input.value, max_iter_input.value)\n",
        "\n",
        "# Asignar el controlador de eventos al botón\n",
        "calc_button.on_click(on_calc_button_clicked)\n",
        "\n",
        "# Mostrar los widgets\n",
        "display(func_input, a_input, b_input, tol_input, max_iter_input, calc_button)\n"
      ],
      "metadata": {
        "colab": {
          "base_uri": "https://localhost:8080/",
          "height": 1000,
          "referenced_widgets": [
            "3e62204e1917407d91470ddada1dfeb1",
            "6a63222631bc4c268b931e44db270d7f",
            "c2d2944b33874f9db65d138d6b746c81",
            "104dc1a307e84c41803f9416aa5d7a90",
            "985497676f5f4651bd8f58038abedbd9",
            "de336d8cf2404ad7b5497093307907f1",
            "a4373cc6474c42c6ae2aa9c4e023535c",
            "2c13cf51326b4b04a496c502a8dc9f44",
            "e8fc971fafd744148768be35d4a9f430",
            "65a9cdbd8efe4520ab886e250be4b6b2",
            "00e031fc400d4da890a7a3dc08196831",
            "a6c171ad278441299291af6940356fb1",
            "ec99f6c31cb1456a87f84ecad1d62bb6",
            "de662cfd7a164be192795170ce79ebaf",
            "8bc35ef67cdf453fbd37c06e9cd06c3e",
            "fae1854b536d441c98e62c1d39b63d8c",
            "01b73bc1774748e8ba34a03dc09e43f0",
            "fd03b5bfcf544c04bcd6418e00b69e97"
          ]
        },
        "id": "0kYM7JOFV9IG",
        "outputId": "6b40ffbf-0ea6-4b80-be3e-22dd40773fb1"
      },
      "execution_count": 2,
      "outputs": [
        {
          "output_type": "display_data",
          "data": {
            "text/plain": [
              "Text(value='x**3 - x - 2', description='Función f(x):')"
            ],
            "application/vnd.jupyter.widget-view+json": {
              "version_major": 2,
              "version_minor": 0,
              "model_id": "3e62204e1917407d91470ddada1dfeb1"
            }
          },
          "metadata": {}
        },
        {
          "output_type": "display_data",
          "data": {
            "text/plain": [
              "Text(value='-3', description='a:')"
            ],
            "application/vnd.jupyter.widget-view+json": {
              "version_major": 2,
              "version_minor": 0,
              "model_id": "104dc1a307e84c41803f9416aa5d7a90"
            }
          },
          "metadata": {}
        },
        {
          "output_type": "display_data",
          "data": {
            "text/plain": [
              "Text(value='3', description='b:')"
            ],
            "application/vnd.jupyter.widget-view+json": {
              "version_major": 2,
              "version_minor": 0,
              "model_id": "a4373cc6474c42c6ae2aa9c4e023535c"
            }
          },
          "metadata": {}
        },
        {
          "output_type": "display_data",
          "data": {
            "text/plain": [
              "Text(value='0.001', description='Tolerancia:')"
            ],
            "application/vnd.jupyter.widget-view+json": {
              "version_major": 2,
              "version_minor": 0,
              "model_id": "65a9cdbd8efe4520ab886e250be4b6b2"
            }
          },
          "metadata": {}
        },
        {
          "output_type": "display_data",
          "data": {
            "text/plain": [
              "Text(value='50', description='Máx. Iteraciones:')"
            ],
            "application/vnd.jupyter.widget-view+json": {
              "version_major": 2,
              "version_minor": 0,
              "model_id": "ec99f6c31cb1456a87f84ecad1d62bb6"
            }
          },
          "metadata": {}
        },
        {
          "output_type": "display_data",
          "data": {
            "text/plain": [
              "Button(description='Calcular', style=ButtonStyle())"
            ],
            "application/vnd.jupyter.widget-view+json": {
              "version_major": 2,
              "version_minor": 0,
              "model_id": "fae1854b536d441c98e62c1d39b63d8c"
            }
          },
          "metadata": {}
        },
        {
          "output_type": "display_data",
          "data": {
            "text/plain": [
              "<Figure size 1000x600 with 1 Axes>"
            ],
            "image/png": "[encoded data removed]"
          },
          "metadata": {}
        },
        {
          "output_type": "display_data",
          "data": {
            "text/plain": [
              "<IPython.core.display.HTML object>"
            ],
            "text/html": [
              "<table><tr><th>Iteración</th><th>a</th><th>b</th><th>c</th><th>f(c)</th></tr><tr><td>0</td><td>-3.000000</td><td>3.000000</td><td>0.000000</td><td>-2.000000</td></tr><tr><td>1</td><td>0.000000</td><td>3.000000</td><td>1.500000</td><td>-0.125000</td></tr><tr><td>2</td><td>1.500000</td><td>3.000000</td><td>2.250000</td><td>7.140625</td></tr><tr><td>3</td><td>1.500000</td><td>2.250000</td><td>1.875000</td><td>2.716797</td></tr><tr><td>4</td><td>1.500000</td><td>1.875000</td><td>1.687500</td><td>1.117920</td></tr><tr><td>5</td><td>1.500000</td><td>1.687500</td><td>1.593750</td><td>0.454437</td></tr><tr><td>6</td><td>1.500000</td><td>1.593750</td><td>1.546875</td><td>0.154522</td></tr><tr><td>7</td><td>1.500000</td><td>1.546875</td><td>1.523438</td><td>0.012250</td></tr><tr><td>8</td><td>1.500000</td><td>1.523438</td><td>1.511719</td><td>-0.056998</td></tr><tr><td>9</td><td>1.511719</td><td>1.523438</td><td>1.517578</td><td>-0.022530</td></tr><tr><td>10</td><td>1.517578</td><td>1.523438</td><td>1.520508</td><td>-0.005179</td></tr><tr><td>11</td><td>1.520508</td><td>1.523438</td><td>1.521973</td><td>0.003526</td></tr><tr><td>12</td><td>1.520508</td><td>1.521973</td><td>1.521240</td><td>-0.000829</td></tr></table>"
            ]
          },
          "metadata": {}
        }
      ]
    }
  ]
}