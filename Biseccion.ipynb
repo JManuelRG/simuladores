{
  "nbformat": 4,
  "nbformat_minor": 0,
  "metadata": {
    "colab": {
      "provenance": [],
      "authorship_tag": "ABX9TyMq09TmdA9SJsePE4J4Ifxi",
      "include_colab_link": true
    },
    "kernelspec": {
      "name": "python3",
      "display_name": "Python 3"
    },
    "language_info": {
      "name": "python"
    },
    "widgets": {
      "application/vnd.jupyter.widget-state+json": {
        "fb0143418250463b9963fc9807c9b0fd": {
          "model_module": "@jupyter-widgets/controls",
          "model_name": "TextModel",
          "model_module_version": "1.5.0",
          "state": {
            "_dom_classes": [],
            "_model_module": "@jupyter-widgets/controls",
            "_model_module_version": "1.5.0",
            "_model_name": "TextModel",
            "_view_count": null,
            "_view_module": "@jupyter-widgets/controls",
            "_view_module_version": "1.5.0",
            "_view_name": "TextView",
            "continuous_update": true,
            "description": "Función f(x):",
            "description_tooltip": null,
            "disabled": false,
            "layout": "IPY_MODEL_a660b988d0d649f1a9230cd5b1423e28",
            "placeholder": "​",
            "style": "IPY_MODEL_8aaa4bacafc842658dbe7da67c3e9911",
            "value": "10*exp(x/2)*cos(2*x)-4"
          }
        },
        "a660b988d0d649f1a9230cd5b1423e28": {
          "model_module": "@jupyter-widgets/base",
          "model_name": "LayoutModel",
          "model_module_version": "1.2.0",
          "state": {
            "_model_module": "@jupyter-widgets/base",
            "_model_module_version": "1.2.0",
            "_model_name": "LayoutModel",
            "_view_count": null,
            "_view_module": "@jupyter-widgets/base",
            "_view_module_version": "1.2.0",
            "_view_name": "LayoutView",
            "align_content": null,
            "align_items": null,
            "align_self": null,
            "border": null,
            "bottom": null,
            "display": null,
            "flex": null,
            "flex_flow": null,
            "grid_area": null,
            "grid_auto_columns": null,
            "grid_auto_flow": null,
            "grid_auto_rows": null,
            "grid_column": null,
            "grid_gap": null,
            "grid_row": null,
            "grid_template_areas": null,
            "grid_template_columns": null,
            "grid_template_rows": null,
            "height": null,
            "justify_content": null,
            "justify_items": null,
            "left": null,
            "margin": null,
            "max_height": null,
            "max_width": null,
            "min_height": null,
            "min_width": null,
            "object_fit": null,
            "object_position": null,
            "order": null,
            "overflow": null,
            "overflow_x": null,
            "overflow_y": null,
            "padding": null,
            "right": null,
            "top": null,
            "visibility": null,
            "width": null
          }
        },
        "8aaa4bacafc842658dbe7da67c3e9911": {
          "model_module": "@jupyter-widgets/controls",
          "model_name": "DescriptionStyleModel",
          "model_module_version": "1.5.0",
          "state": {
            "_model_module": "@jupyter-widgets/controls",
            "_model_module_version": "1.5.0",
            "_model_name": "DescriptionStyleModel",
            "_view_count": null,
            "_view_module": "@jupyter-widgets/base",
            "_view_module_version": "1.2.0",
            "_view_name": "StyleView",
            "description_width": ""
          }
        },
        "16ed214ecc204da8be249adb8a83b868": {
          "model_module": "@jupyter-widgets/controls",
          "model_name": "TextModel",
          "model_module_version": "1.5.0",
          "state": {
            "_dom_classes": [],
            "_model_module": "@jupyter-widgets/controls",
            "_model_module_version": "1.5.0",
            "_model_name": "TextModel",
            "_view_count": null,
            "_view_module": "@jupyter-widgets/controls",
            "_view_module_version": "1.5.0",
            "_view_name": "TextView",
            "continuous_update": true,
            "description": "Límite inferior (a):",
            "description_tooltip": null,
            "disabled": false,
            "layout": "IPY_MODEL_d04da6a017b04a5c9e11217c2fa8add4",
            "placeholder": "​",
            "style": "IPY_MODEL_e3ab94c64bc344a181726a782005bb92",
            "value": "0"
          }
        },
        "d04da6a017b04a5c9e11217c2fa8add4": {
          "model_module": "@jupyter-widgets/base",
          "model_name": "LayoutModel",
          "model_module_version": "1.2.0",
          "state": {
            "_model_module": "@jupyter-widgets/base",
            "_model_module_version": "1.2.0",
            "_model_name": "LayoutModel",
            "_view_count": null,
            "_view_module": "@jupyter-widgets/base",
            "_view_module_version": "1.2.0",
            "_view_name": "LayoutView",
            "align_content": null,
            "align_items": null,
            "align_self": null,
            "border": null,
            "bottom": null,
            "display": null,
            "flex": null,
            "flex_flow": null,
            "grid_area": null,
            "grid_auto_columns": null,
            "grid_auto_flow": null,
            "grid_auto_rows": null,
            "grid_column": null,
            "grid_gap": null,
            "grid_row": null,
            "grid_template_areas": null,
            "grid_template_columns": null,
            "grid_template_rows": null,
            "height": null,
            "justify_content": null,
            "justify_items": null,
            "left": null,
            "margin": null,
            "max_height": null,
            "max_width": null,
            "min_height": null,
            "min_width": null,
            "object_fit": null,
            "object_position": null,
            "order": null,
            "overflow": null,
            "overflow_x": null,
            "overflow_y": null,
            "padding": null,
            "right": null,
            "top": null,
            "visibility": null,
            "width": null
          }
        },
        "e3ab94c64bc344a181726a782005bb92": {
          "model_module": "@jupyter-widgets/controls",
          "model_name": "DescriptionStyleModel",
          "model_module_version": "1.5.0",
          "state": {
            "_model_module": "@jupyter-widgets/controls",
            "_model_module_version": "1.5.0",
            "_model_name": "DescriptionStyleModel",
            "_view_count": null,
            "_view_module": "@jupyter-widgets/base",
            "_view_module_version": "1.2.0",
            "_view_name": "StyleView",
            "description_width": ""
          }
        },
        "4e77e437d6254d77a9d3034ddeac0ff5": {
          "model_module": "@jupyter-widgets/controls",
          "model_name": "TextModel",
          "model_module_version": "1.5.0",
          "state": {
            "_dom_classes": [],
            "_model_module": "@jupyter-widgets/controls",
            "_model_module_version": "1.5.0",
            "_model_name": "TextModel",
            "_view_count": null,
            "_view_module": "@jupyter-widgets/controls",
            "_view_module_version": "1.5.0",
            "_view_name": "TextView",
            "continuous_update": true,
            "description": "Límite superior (b):",
            "description_tooltip": null,
            "disabled": false,
            "layout": "IPY_MODEL_540f6622141347378e913679755c6641",
            "placeholder": "​",
            "style": "IPY_MODEL_f9d80cf276bd4b9abf32f8bc20592b47",
            "value": "10"
          }
        },
        "540f6622141347378e913679755c6641": {
          "model_module": "@jupyter-widgets/base",
          "model_name": "LayoutModel",
          "model_module_version": "1.2.0",
          "state": {
            "_model_module": "@jupyter-widgets/base",
            "_model_module_version": "1.2.0",
            "_model_name": "LayoutModel",
            "_view_count": null,
            "_view_module": "@jupyter-widgets/base",
            "_view_module_version": "1.2.0",
            "_view_name": "LayoutView",
            "align_content": null,
            "align_items": null,
            "align_self": null,
            "border": null,
            "bottom": null,
            "display": null,
            "flex": null,
            "flex_flow": null,
            "grid_area": null,
            "grid_auto_columns": null,
            "grid_auto_flow": null,
            "grid_auto_rows": null,
            "grid_column": null,
            "grid_gap": null,
            "grid_row": null,
            "grid_template_areas": null,
            "grid_template_columns": null,
            "grid_template_rows": null,
            "height": null,
            "justify_content": null,
            "justify_items": null,
            "left": null,
            "margin": null,
            "max_height": null,
            "max_width": null,
            "min_height": null,
            "min_width": null,
            "object_fit": null,
            "object_position": null,
            "order": null,
            "overflow": null,
            "overflow_x": null,
            "overflow_y": null,
            "padding": null,
            "right": null,
            "top": null,
            "visibility": null,
            "width": null
          }
        },
        "f9d80cf276bd4b9abf32f8bc20592b47": {
          "model_module": "@jupyter-widgets/controls",
          "model_name": "DescriptionStyleModel",
          "model_module_version": "1.5.0",
          "state": {
            "_model_module": "@jupyter-widgets/controls",
            "_model_module_version": "1.5.0",
            "_model_name": "DescriptionStyleModel",
            "_view_count": null,
            "_view_module": "@jupyter-widgets/base",
            "_view_module_version": "1.2.0",
            "_view_name": "StyleView",
            "description_width": ""
          }
        },
        "6a36a051a0a14211bde5eb3765505af7": {
          "model_module": "@jupyter-widgets/controls",
          "model_name": "ButtonModel",
          "model_module_version": "1.5.0",
          "state": {
            "_dom_classes": [],
            "_model_module": "@jupyter-widgets/controls",
            "_model_module_version": "1.5.0",
            "_model_name": "ButtonModel",
            "_view_count": null,
            "_view_module": "@jupyter-widgets/controls",
            "_view_module_version": "1.5.0",
            "_view_name": "ButtonView",
            "button_style": "",
            "description": "Graficar",
            "disabled": false,
            "icon": "",
            "layout": "IPY_MODEL_b7e203a412e445dfafd9b98692290611",
            "style": "IPY_MODEL_7eefec0d294d4311aa5f5cd6478b7591",
            "tooltip": ""
          }
        },
        "b7e203a412e445dfafd9b98692290611": {
          "model_module": "@jupyter-widgets/base",
          "model_name": "LayoutModel",
          "model_module_version": "1.2.0",
          "state": {
            "_model_module": "@jupyter-widgets/base",
            "_model_module_version": "1.2.0",
            "_model_name": "LayoutModel",
            "_view_count": null,
            "_view_module": "@jupyter-widgets/base",
            "_view_module_version": "1.2.0",
            "_view_name": "LayoutView",
            "align_content": null,
            "align_items": null,
            "align_self": null,
            "border": null,
            "bottom": null,
            "display": null,
            "flex": null,
            "flex_flow": null,
            "grid_area": null,
            "grid_auto_columns": null,
            "grid_auto_flow": null,
            "grid_auto_rows": null,
            "grid_column": null,
            "grid_gap": null,
            "grid_row": null,
            "grid_template_areas": null,
            "grid_template_columns": null,
            "grid_template_rows": null,
            "height": null,
            "justify_content": null,
            "justify_items": null,
            "left": null,
            "margin": null,
            "max_height": null,
            "max_width": null,
            "min_height": null,
            "min_width": null,
            "object_fit": null,
            "object_position": null,
            "order": null,
            "overflow": null,
            "overflow_x": null,
            "overflow_y": null,
            "padding": null,
            "right": null,
            "top": null,
            "visibility": null,
            "width": null
          }
        },
        "7eefec0d294d4311aa5f5cd6478b7591": {
          "model_module": "@jupyter-widgets/controls",
          "model_name": "ButtonStyleModel",
          "model_module_version": "1.5.0",
          "state": {
            "_model_module": "@jupyter-widgets/controls",
            "_model_module_version": "1.5.0",
            "_model_name": "ButtonStyleModel",
            "_view_count": null,
            "_view_module": "@jupyter-widgets/base",
            "_view_module_version": "1.2.0",
            "_view_name": "StyleView",
            "button_color": null,
            "font_weight": ""
          }
        },
        "9108d142a69047d282be5a32a2b30ba7": {
          "model_module": "@jupyter-widgets/controls",
          "model_name": "TextModel",
          "model_module_version": "1.5.0",
          "state": {
            "_dom_classes": [],
            "_model_module": "@jupyter-widgets/controls",
            "_model_module_version": "1.5.0",
            "_model_name": "TextModel",
            "_view_count": null,
            "_view_module": "@jupyter-widgets/controls",
            "_view_module_version": "1.5.0",
            "_view_name": "TextView",
            "continuous_update": true,
            "description": "Función f(x):",
            "description_tooltip": null,
            "disabled": false,
            "layout": "IPY_MODEL_bb1e7d8cbeaf47108d8f2b7cbd413e86",
            "placeholder": "​",
            "style": "IPY_MODEL_835d244e54684e25b45959a5d160994f",
            "value": "10*exp(x/2)*cos(2*x)-4"
          }
        },
        "bb1e7d8cbeaf47108d8f2b7cbd413e86": {
          "model_module": "@jupyter-widgets/base",
          "model_name": "LayoutModel",
          "model_module_version": "1.2.0",
          "state": {
            "_model_module": "@jupyter-widgets/base",
            "_model_module_version": "1.2.0",
            "_model_name": "LayoutModel",
            "_view_count": null,
            "_view_module": "@jupyter-widgets/base",
            "_view_module_version": "1.2.0",
            "_view_name": "LayoutView",
            "align_content": null,
            "align_items": null,
            "align_self": null,
            "border": null,
            "bottom": null,
            "display": null,
            "flex": null,
            "flex_flow": null,
            "grid_area": null,
            "grid_auto_columns": null,
            "grid_auto_flow": null,
            "grid_auto_rows": null,
            "grid_column": null,
            "grid_gap": null,
            "grid_row": null,
            "grid_template_areas": null,
            "grid_template_columns": null,
            "grid_template_rows": null,
            "height": null,
            "justify_content": null,
            "justify_items": null,
            "left": null,
            "margin": null,
            "max_height": null,
            "max_width": null,
            "min_height": null,
            "min_width": null,
            "object_fit": null,
            "object_position": null,
            "order": null,
            "overflow": null,
            "overflow_x": null,
            "overflow_y": null,
            "padding": null,
            "right": null,
            "top": null,
            "visibility": null,
            "width": null
          }
        },
        "835d244e54684e25b45959a5d160994f": {
          "model_module": "@jupyter-widgets/controls",
          "model_name": "DescriptionStyleModel",
          "model_module_version": "1.5.0",
          "state": {
            "_model_module": "@jupyter-widgets/controls",
            "_model_module_version": "1.5.0",
            "_model_name": "DescriptionStyleModel",
            "_view_count": null,
            "_view_module": "@jupyter-widgets/base",
            "_view_module_version": "1.2.0",
            "_view_name": "StyleView",
            "description_width": ""
          }
        },
        "23e3aabe2bec4bafac775a1b689236c9": {
          "model_module": "@jupyter-widgets/controls",
          "model_name": "TextModel",
          "model_module_version": "1.5.0",
          "state": {
            "_dom_classes": [],
            "_model_module": "@jupyter-widgets/controls",
            "_model_module_version": "1.5.0",
            "_model_name": "TextModel",
            "_view_count": null,
            "_view_module": "@jupyter-widgets/controls",
            "_view_module_version": "1.5.0",
            "_view_name": "TextView",
            "continuous_update": true,
            "description": "a:",
            "description_tooltip": null,
            "disabled": false,
            "layout": "IPY_MODEL_d9d5c9c05910430e83f72ef0f9b1bfa6",
            "placeholder": "​",
            "style": "IPY_MODEL_7ab4835838004ffca5069cd9097cc14c",
            "value": "3"
          }
        },
        "d9d5c9c05910430e83f72ef0f9b1bfa6": {
          "model_module": "@jupyter-widgets/base",
          "model_name": "LayoutModel",
          "model_module_version": "1.2.0",
          "state": {
            "_model_module": "@jupyter-widgets/base",
            "_model_module_version": "1.2.0",
            "_model_name": "LayoutModel",
            "_view_count": null,
            "_view_module": "@jupyter-widgets/base",
            "_view_module_version": "1.2.0",
            "_view_name": "LayoutView",
            "align_content": null,
            "align_items": null,
            "align_self": null,
            "border": null,
            "bottom": null,
            "display": null,
            "flex": null,
            "flex_flow": null,
            "grid_area": null,
            "grid_auto_columns": null,
            "grid_auto_flow": null,
            "grid_auto_rows": null,
            "grid_column": null,
            "grid_gap": null,
            "grid_row": null,
            "grid_template_areas": null,
            "grid_template_columns": null,
            "grid_template_rows": null,
            "height": null,
            "justify_content": null,
            "justify_items": null,
            "left": null,
            "margin": null,
            "max_height": null,
            "max_width": null,
            "min_height": null,
            "min_width": null,
            "object_fit": null,
            "object_position": null,
            "order": null,
            "overflow": null,
            "overflow_x": null,
            "overflow_y": null,
            "padding": null,
            "right": null,
            "top": null,
            "visibility": null,
            "width": null
          }
        },
        "7ab4835838004ffca5069cd9097cc14c": {
          "model_module": "@jupyter-widgets/controls",
          "model_name": "DescriptionStyleModel",
          "model_module_version": "1.5.0",
          "state": {
            "_model_module": "@jupyter-widgets/controls",
            "_model_module_version": "1.5.0",
            "_model_name": "DescriptionStyleModel",
            "_view_count": null,
            "_view_module": "@jupyter-widgets/base",
            "_view_module_version": "1.2.0",
            "_view_name": "StyleView",
            "description_width": ""
          }
        },
        "e0d079b8e94748e5bc42dd2145a6f42c": {
          "model_module": "@jupyter-widgets/controls",
          "model_name": "TextModel",
          "model_module_version": "1.5.0",
          "state": {
            "_dom_classes": [],
            "_model_module": "@jupyter-widgets/controls",
            "_model_module_version": "1.5.0",
            "_model_name": "TextModel",
            "_view_count": null,
            "_view_module": "@jupyter-widgets/controls",
            "_view_module_version": "1.5.0",
            "_view_name": "TextView",
            "continuous_update": true,
            "description": "b:",
            "description_tooltip": null,
            "disabled": false,
            "layout": "IPY_MODEL_f0cd34935a264ac6b63132f57b4f84b8",
            "placeholder": "​",
            "style": "IPY_MODEL_3444b19fe678482ebfdb07bc08cc6fa2",
            "value": "5"
          }
        },
        "f0cd34935a264ac6b63132f57b4f84b8": {
          "model_module": "@jupyter-widgets/base",
          "model_name": "LayoutModel",
          "model_module_version": "1.2.0",
          "state": {
            "_model_module": "@jupyter-widgets/base",
            "_model_module_version": "1.2.0",
            "_model_name": "LayoutModel",
            "_view_count": null,
            "_view_module": "@jupyter-widgets/base",
            "_view_module_version": "1.2.0",
            "_view_name": "LayoutView",
            "align_content": null,
            "align_items": null,
            "align_self": null,
            "border": null,
            "bottom": null,
            "display": null,
            "flex": null,
            "flex_flow": null,
            "grid_area": null,
            "grid_auto_columns": null,
            "grid_auto_flow": null,
            "grid_auto_rows": null,
            "grid_column": null,
            "grid_gap": null,
            "grid_row": null,
            "grid_template_areas": null,
            "grid_template_columns": null,
            "grid_template_rows": null,
            "height": null,
            "justify_content": null,
            "justify_items": null,
            "left": null,
            "margin": null,
            "max_height": null,
            "max_width": null,
            "min_height": null,
            "min_width": null,
            "object_fit": null,
            "object_position": null,
            "order": null,
            "overflow": null,
            "overflow_x": null,
            "overflow_y": null,
            "padding": null,
            "right": null,
            "top": null,
            "visibility": null,
            "width": null
          }
        },
        "3444b19fe678482ebfdb07bc08cc6fa2": {
          "model_module": "@jupyter-widgets/controls",
          "model_name": "DescriptionStyleModel",
          "model_module_version": "1.5.0",
          "state": {
            "_model_module": "@jupyter-widgets/controls",
            "_model_module_version": "1.5.0",
            "_model_name": "DescriptionStyleModel",
            "_view_count": null,
            "_view_module": "@jupyter-widgets/base",
            "_view_module_version": "1.2.0",
            "_view_name": "StyleView",
            "description_width": ""
          }
        },
        "a7cdd38e020a4525833b6dcf64e0925e": {
          "model_module": "@jupyter-widgets/controls",
          "model_name": "TextModel",
          "model_module_version": "1.5.0",
          "state": {
            "_dom_classes": [],
            "_model_module": "@jupyter-widgets/controls",
            "_model_module_version": "1.5.0",
            "_model_name": "TextModel",
            "_view_count": null,
            "_view_module": "@jupyter-widgets/controls",
            "_view_module_version": "1.5.0",
            "_view_name": "TextView",
            "continuous_update": true,
            "description": "Tolerancia:",
            "description_tooltip": null,
            "disabled": false,
            "layout": "IPY_MODEL_43ffd58d550e42ea8aded5c55c86eb40",
            "placeholder": "​",
            "style": "IPY_MODEL_c35452c7a6d347c7b3efb5b48b9ebb1d",
            "value": "0.001"
          }
        },
        "43ffd58d550e42ea8aded5c55c86eb40": {
          "model_module": "@jupyter-widgets/base",
          "model_name": "LayoutModel",
          "model_module_version": "1.2.0",
          "state": {
            "_model_module": "@jupyter-widgets/base",
            "_model_module_version": "1.2.0",
            "_model_name": "LayoutModel",
            "_view_count": null,
            "_view_module": "@jupyter-widgets/base",
            "_view_module_version": "1.2.0",
            "_view_name": "LayoutView",
            "align_content": null,
            "align_items": null,
            "align_self": null,
            "border": null,
            "bottom": null,
            "display": null,
            "flex": null,
            "flex_flow": null,
            "grid_area": null,
            "grid_auto_columns": null,
            "grid_auto_flow": null,
            "grid_auto_rows": null,
            "grid_column": null,
            "grid_gap": null,
            "grid_row": null,
            "grid_template_areas": null,
            "grid_template_columns": null,
            "grid_template_rows": null,
            "height": null,
            "justify_content": null,
            "justify_items": null,
            "left": null,
            "margin": null,
            "max_height": null,
            "max_width": null,
            "min_height": null,
            "min_width": null,
            "object_fit": null,
            "object_position": null,
            "order": null,
            "overflow": null,
            "overflow_x": null,
            "overflow_y": null,
            "padding": null,
            "right": null,
            "top": null,
            "visibility": null,
            "width": null
          }
        },
        "c35452c7a6d347c7b3efb5b48b9ebb1d": {
          "model_module": "@jupyter-widgets/controls",
          "model_name": "DescriptionStyleModel",
          "model_module_version": "1.5.0",
          "state": {
            "_model_module": "@jupyter-widgets/controls",
            "_model_module_version": "1.5.0",
            "_model_name": "DescriptionStyleModel",
            "_view_count": null,
            "_view_module": "@jupyter-widgets/base",
            "_view_module_version": "1.2.0",
            "_view_name": "StyleView",
            "description_width": ""
          }
        },
        "a3723ba5b2804dc0a5f4ae0edfd3689f": {
          "model_module": "@jupyter-widgets/controls",
          "model_name": "TextModel",
          "model_module_version": "1.5.0",
          "state": {
            "_dom_classes": [],
            "_model_module": "@jupyter-widgets/controls",
            "_model_module_version": "1.5.0",
            "_model_name": "TextModel",
            "_view_count": null,
            "_view_module": "@jupyter-widgets/controls",
            "_view_module_version": "1.5.0",
            "_view_name": "TextView",
            "continuous_update": true,
            "description": "Máx. Iteraciones:",
            "description_tooltip": null,
            "disabled": false,
            "layout": "IPY_MODEL_08f4db80fe45417fb442f4f2107dc54e",
            "placeholder": "​",
            "style": "IPY_MODEL_4532a55b7d854f5e8523c90fd78a5654",
            "value": "50"
          }
        },
        "08f4db80fe45417fb442f4f2107dc54e": {
          "model_module": "@jupyter-widgets/base",
          "model_name": "LayoutModel",
          "model_module_version": "1.2.0",
          "state": {
            "_model_module": "@jupyter-widgets/base",
            "_model_module_version": "1.2.0",
            "_model_name": "LayoutModel",
            "_view_count": null,
            "_view_module": "@jupyter-widgets/base",
            "_view_module_version": "1.2.0",
            "_view_name": "LayoutView",
            "align_content": null,
            "align_items": null,
            "align_self": null,
            "border": null,
            "bottom": null,
            "display": null,
            "flex": null,
            "flex_flow": null,
            "grid_area": null,
            "grid_auto_columns": null,
            "grid_auto_flow": null,
            "grid_auto_rows": null,
            "grid_column": null,
            "grid_gap": null,
            "grid_row": null,
            "grid_template_areas": null,
            "grid_template_columns": null,
            "grid_template_rows": null,
            "height": null,
            "justify_content": null,
            "justify_items": null,
            "left": null,
            "margin": null,
            "max_height": null,
            "max_width": null,
            "min_height": null,
            "min_width": null,
            "object_fit": null,
            "object_position": null,
            "order": null,
            "overflow": null,
            "overflow_x": null,
            "overflow_y": null,
            "padding": null,
            "right": null,
            "top": null,
            "visibility": null,
            "width": null
          }
        },
        "4532a55b7d854f5e8523c90fd78a5654": {
          "model_module": "@jupyter-widgets/controls",
          "model_name": "DescriptionStyleModel",
          "model_module_version": "1.5.0",
          "state": {
            "_model_module": "@jupyter-widgets/controls",
            "_model_module_version": "1.5.0",
            "_model_name": "DescriptionStyleModel",
            "_view_count": null,
            "_view_module": "@jupyter-widgets/base",
            "_view_module_version": "1.2.0",
            "_view_name": "StyleView",
            "description_width": ""
          }
        },
        "716d8045a0144ed19eb13c7e40c5c2c2": {
          "model_module": "@jupyter-widgets/controls",
          "model_name": "ButtonModel",
          "model_module_version": "1.5.0",
          "state": {
            "_dom_classes": [],
            "_model_module": "@jupyter-widgets/controls",
            "_model_module_version": "1.5.0",
            "_model_name": "ButtonModel",
            "_view_count": null,
            "_view_module": "@jupyter-widgets/controls",
            "_view_module_version": "1.5.0",
            "_view_name": "ButtonView",
            "button_style": "",
            "description": "Calcular",
            "disabled": false,
            "icon": "",
            "layout": "IPY_MODEL_5b8d3cb65c1c479295a2eae79bded43b",
            "style": "IPY_MODEL_f38614d2f0f344d288dfa3ac8a010793",
            "tooltip": ""
          }
        },
        "5b8d3cb65c1c479295a2eae79bded43b": {
          "model_module": "@jupyter-widgets/base",
          "model_name": "LayoutModel",
          "model_module_version": "1.2.0",
          "state": {
            "_model_module": "@jupyter-widgets/base",
            "_model_module_version": "1.2.0",
            "_model_name": "LayoutModel",
            "_view_count": null,
            "_view_module": "@jupyter-widgets/base",
            "_view_module_version": "1.2.0",
            "_view_name": "LayoutView",
            "align_content": null,
            "align_items": null,
            "align_self": null,
            "border": null,
            "bottom": null,
            "display": null,
            "flex": null,
            "flex_flow": null,
            "grid_area": null,
            "grid_auto_columns": null,
            "grid_auto_flow": null,
            "grid_auto_rows": null,
            "grid_column": null,
            "grid_gap": null,
            "grid_row": null,
            "grid_template_areas": null,
            "grid_template_columns": null,
            "grid_template_rows": null,
            "height": null,
            "justify_content": null,
            "justify_items": null,
            "left": null,
            "margin": null,
            "max_height": null,
            "max_width": null,
            "min_height": null,
            "min_width": null,
            "object_fit": null,
            "object_position": null,
            "order": null,
            "overflow": null,
            "overflow_x": null,
            "overflow_y": null,
            "padding": null,
            "right": null,
            "top": null,
            "visibility": null,
            "width": null
          }
        },
        "f38614d2f0f344d288dfa3ac8a010793": {
          "model_module": "@jupyter-widgets/controls",
          "model_name": "ButtonStyleModel",
          "model_module_version": "1.5.0",
          "state": {
            "_model_module": "@jupyter-widgets/controls",
            "_model_module_version": "1.5.0",
            "_model_name": "ButtonStyleModel",
            "_view_count": null,
            "_view_module": "@jupyter-widgets/base",
            "_view_module_version": "1.2.0",
            "_view_name": "StyleView",
            "button_color": null,
            "font_weight": ""
          }
        }
      }
    }
  },
  "cells": [
    {
      "cell_type": "markdown",
      "metadata": {
        "id": "view-in-github",
        "colab_type": "text"
      },
      "source": [
        "<a href=\"https://colab.research.google.com/github/JManuelRG/simuladores/blob/main/Biseccion.ipynb\" target=\"_parent\"><img src=\"https://colab.research.google.com/assets/colab-badge.svg\" alt=\"Open In Colab\"/></a>"
      ]
    },
    {
      "cell_type": "markdown",
      "source": [
        "# Calculadora Método de Bisección"
      ],
      "metadata": {
        "id": "7O4S6ETpVKmy"
      }
    },
    {
      "cell_type": "markdown",
      "source": [
        "# Video Explicación:\n",
        "# https://youtu.be/uKJmJaOJ_Jw"
      ],
      "metadata": {
        "id": "OdEISbCsOeSL"
      }
    },
    {
      "cell_type": "markdown",
      "source": [
        "# Lectura de la función\n",
        "Instrucciones:\n",
        "1. Ejecutar la celda no. 1.\n",
        "2. Introducir la función a resolver de la forma:\n",
        "$$f(x)=0$$\n",
        "\n",
        "\n",
        "| Operación   | Operador    |\n",
        "| :---        |        ---: |\n",
        "| Suma        | +           |\n",
        "| Resta       | -           |\n",
        "| Multiplicación | *        |\n",
        "| División       | /        |\n",
        "| Exponenciación | **        |\n",
        "| Exponencial|exp()|\n",
        "|logaritmo natural| log()|\n",
        "|logaritmo base p|log(x, p)|\n",
        "|seno|sin(x)|\n",
        "|coseno|cos(x)|\n",
        "\n",
        "\n",
        " Más funciones matemáticas en sympy:\n",
        " https://docs.sympy.org/latest/index.html\n",
        "\n",
        "\n",
        "3. Introducir los límites de graficación\n",
        "4. Generar el gráfico"
      ],
      "metadata": {
        "id": "IqasgTf7VM23"
      }
    },
    {
      "cell_type": "code",
      "source": [
        "import numpy as np\n",
        "import matplotlib.pyplot as plt\n",
        "from sympy import *\n",
        "from sympy import symbols, lambdify, sympify\n",
        "import ipywidgets as widgets\n",
        "from IPython.display import display, clear_output\n",
        "\n",
        "# Función para evaluar la expresión simbólica\n",
        "def eval_function(expression, x_val):\n",
        "    x = symbols('x')\n",
        "    return lambdify(x, expression, 'numpy')(x_val)\n",
        "\n",
        "# Función para graficar la función\n",
        "def plot_function(expr_str, a, b):\n",
        "    try:\n",
        "        expression = sympify(expr_str)\n",
        "        a = float(a)\n",
        "        b = float(b)\n",
        "\n",
        "        x = np.linspace(a, b, 400)\n",
        "        y = eval_function(expression, x)\n",
        "\n",
        "        plt.figure(figsize=(10, 6))\n",
        "        plt.plot(x, y, label=f'f(x) = {expr_str}')\n",
        "        plt.title('Gráfico de la función')\n",
        "        plt.xlabel('x')\n",
        "        plt.ylabel('f(x)')\n",
        "        plt.grid(True)\n",
        "        plt.legend()\n",
        "        plt.show()\n",
        "    except ValueError as e:\n",
        "        print(f\"Error: {str(e)}\")\n",
        "    except Exception as e:\n",
        "        print(f\"Error en la evaluación de la función: {str(e)}\")\n",
        "\n",
        "# Widgets de entrada\n",
        "func_input = widgets.Text(value='x**2', description='Función f(x):')\n",
        "a_input = widgets.Text(value='-10', description='Límite inferior (a):')\n",
        "b_input = widgets.Text(value='10', description='Límite superior (b):')\n",
        "plot_button = widgets.Button(description=\"Graficar\")\n",
        "\n",
        "# Función para manejar el evento de clic del botón\n",
        "def on_plot_button_clicked(b):\n",
        "    clear_output(wait=True)\n",
        "    display(func_input, a_input, b_input, plot_button)\n",
        "    plot_function(func_input.value, a_input.value, b_input.value)\n",
        "\n",
        "# Asignar el controlador de eventos al botón\n",
        "plot_button.on_click(on_plot_button_clicked)\n",
        "\n",
        "# Mostrar los widgets\n",
        "display(func_input, a_input, b_input, plot_button)\n"
      ],
      "metadata": {
        "colab": {
          "base_uri": "https://localhost:8080/",
          "height": 688,
          "referenced_widgets": [
            "fb0143418250463b9963fc9807c9b0fd",
            "a660b988d0d649f1a9230cd5b1423e28",
            "8aaa4bacafc842658dbe7da67c3e9911",
            "16ed214ecc204da8be249adb8a83b868",
            "d04da6a017b04a5c9e11217c2fa8add4",
            "e3ab94c64bc344a181726a782005bb92",
            "4e77e437d6254d77a9d3034ddeac0ff5",
            "540f6622141347378e913679755c6641",
            "f9d80cf276bd4b9abf32f8bc20592b47",
            "6a36a051a0a14211bde5eb3765505af7",
            "b7e203a412e445dfafd9b98692290611",
            "7eefec0d294d4311aa5f5cd6478b7591"
          ]
        },
        "id": "3mXHxZpmVJc6",
        "outputId": "9109d518-7972-4fe3-c316-0d0d51fa7961"
      },
      "execution_count": null,
      "outputs": [
        {
          "output_type": "display_data",
          "data": {
            "text/plain": [
              "Text(value='10*exp(x/2)*cos(2*x)-4', description='Función f(x):')"
            ],
            "application/vnd.jupyter.widget-view+json": {
              "version_major": 2,
              "version_minor": 0,
              "model_id": "fb0143418250463b9963fc9807c9b0fd"
            }
          },
          "metadata": {}
        },
        {
          "output_type": "display_data",
          "data": {
            "text/plain": [
              "Text(value='0', description='Límite inferior (a):')"
            ],
            "application/vnd.jupyter.widget-view+json": {
              "version_major": 2,
              "version_minor": 0,
              "model_id": "16ed214ecc204da8be249adb8a83b868"
            }
          },
          "metadata": {}
        },
        {
          "output_type": "display_data",
          "data": {
            "text/plain": [
              "Text(value='10', description='Límite superior (b):')"
            ],
            "application/vnd.jupyter.widget-view+json": {
              "version_major": 2,
              "version_minor": 0,
              "model_id": "4e77e437d6254d77a9d3034ddeac0ff5"
            }
          },
          "metadata": {}
        },
        {
          "output_type": "display_data",
          "data": {
            "text/plain": [
              "Button(description='Graficar', style=ButtonStyle())"
            ],
            "application/vnd.jupyter.widget-view+json": {
              "version_major": 2,
              "version_minor": 0,
              "model_id": "6a36a051a0a14211bde5eb3765505af7"
            }
          },
          "metadata": {}
        },
        {
          "output_type": "display_data",
          "data": {
            "text/plain": [
              "<Figure size 1000x600 with 1 Axes>"
            ],
            "image/png": "[encoded data removed]"
          },
          "metadata": {}
        }
      ]
    },
    {
      "cell_type": "markdown",
      "source": [
        "# Método de Bisección"
      ],
      "metadata": {
        "id": "M1MaIYEhV66J"
      }
    },
    {
      "cell_type": "code",
      "source": [
        "import numpy as np\n",
        "import matplotlib.pyplot as plt\n",
        "from sympy import symbols, lambdify, sympify\n",
        "import ipywidgets as widgets\n",
        "from IPython.display import display, clear_output\n",
        "from sympy import *\n",
        "\n",
        "# Función para evaluar la expresión simbólica\n",
        "def eval_function(expression, x_val):\n",
        "    x = symbols('x')\n",
        "    return lambdify(x, expression, 'numpy')(x_val)\n",
        "\n",
        "# Implementación del método de bisección\n",
        "def biseccion(expression, a, b, tol, max_iter):\n",
        "    resultados = []\n",
        "    x = symbols('x')\n",
        "    f = lambdify(x, expression, 'numpy')\n",
        "\n",
        "    if f(a) * f(b) >= 0:\n",
        "        raise ValueError(\"f(a) y f(b) deben tener signos opuestos\")\n",
        "    c = a\n",
        "    for i in range(max_iter):\n",
        "        c = (a + b) / 2\n",
        "        resultados.append((i, a, b, c, f(c)))\n",
        "        if f(c) == 0 or (b - a) / 2 < tol:\n",
        "            break\n",
        "        if f(c) * f(a) < 0:\n",
        "            b = c\n",
        "        else:\n",
        "            a = c\n",
        "    return c, resultados\n",
        "\n",
        "# Función para actualizar la gráfica y la tabla\n",
        "def calcular_raiz(expr_str, a, b, tol, max_iter):\n",
        "    try:\n",
        "        expression = sympify(expr_str)\n",
        "        a = float(a)\n",
        "        b = float(b)\n",
        "        tol = float(tol)\n",
        "        max_iter = int(max_iter)\n",
        "\n",
        "        raiz, resultados = biseccion(expression, a, b, tol, max_iter)\n",
        "\n",
        "        # Actualizar tabla\n",
        "        fig, ax = plt.subplots(figsize=(10, 6))\n",
        "        x = np.linspace(a, b, 400)\n",
        "        y = eval_function(expression, x)\n",
        "        ax.plot(x, y, label=\"f(x)\")\n",
        "        ax.axhline(0, color='black', linewidth=0.5)\n",
        "        ax.axvline(raiz, color='r', linestyle='--', label=f'Raíz aprox: {raiz:.6f}')\n",
        "        ax.legend()\n",
        "        ax.tick_params(axis='both', labelsize=16)\n",
        "        ax.set_title('Método de Bisección', fontsize=18)\n",
        "        ax.set_xlabel('x', fontsize=16)\n",
        "        ax.set_ylabel('f(x)', fontsize=16)\n",
        "\n",
        "        # Añadir texto que marque la solución\n",
        "        ax.text(raiz, 0, f'  x = {raiz:.6f}', fontsize=16, verticalalignment='bottom', color='red')\n",
        "\n",
        "        plt.show()\n",
        "\n",
        "        # Mostrar resultados en tabla\n",
        "        display_resultados(resultados)\n",
        "\n",
        "    except ValueError as e:\n",
        "        print(f\"Error: {str(e)}\")\n",
        "    except Exception as e:\n",
        "        print(f\"Error en la evaluación de la función: {str(e)}\")\n",
        "\n",
        "def display_resultados(resultados):\n",
        "    from IPython.display import HTML, display\n",
        "    html = \"<table><tr><th>Iteración</th><th>a</th><th>b</th><th>c</th><th>f(c)</th></tr>\"\n",
        "    for res in resultados:\n",
        "        html += f\"<tr><td>{res[0]}</td><td>{res[1]:.6f}</td><td>{res[2]:.6f}</td><td>{res[3]:.6f}</td><td>{res[4]:.6f}</td></tr>\"\n",
        "    html += \"</table>\"\n",
        "    display(HTML(html))\n",
        "\n",
        "# Widgets de entrada\n",
        "func_input = widgets.Text(value='x**3 - x - 2', description='Función f(x):')\n",
        "a_input = widgets.Text(value='-3', description='a:')\n",
        "b_input = widgets.Text(value='3', description='b:')\n",
        "tol_input = widgets.Text(value='0.001', description='Tolerancia:')\n",
        "max_iter_input = widgets.Text(value='50', description='Máx. Iteraciones:')\n",
        "calc_button = widgets.Button(description=\"Calcular\")\n",
        "\n",
        "# Función para manejar el evento de clic del botón\n",
        "def on_calc_button_clicked(b):\n",
        "    clear_output(wait=True)\n",
        "    display(func_input, a_input, b_input, tol_input, max_iter_input, calc_button)\n",
        "    calcular_raiz(func_input.value, a_input.value, b_input.value, tol_input.value, max_iter_input.value)\n",
        "\n",
        "# Asignar el controlador de eventos al botón\n",
        "calc_button.on_click(on_calc_button_clicked)\n",
        "\n",
        "# Mostrar los widgets\n",
        "display(func_input, a_input, b_input, tol_input, max_iter_input, calc_button)\n"
      ],
      "metadata": {
        "colab": {
          "base_uri": "https://localhost:8080/",
          "height": 1000,
          "referenced_widgets": [
            "9108d142a69047d282be5a32a2b30ba7",
            "bb1e7d8cbeaf47108d8f2b7cbd413e86",
            "835d244e54684e25b45959a5d160994f",
            "23e3aabe2bec4bafac775a1b689236c9",
            "d9d5c9c05910430e83f72ef0f9b1bfa6",
            "7ab4835838004ffca5069cd9097cc14c",
            "e0d079b8e94748e5bc42dd2145a6f42c",
            "f0cd34935a264ac6b63132f57b4f84b8",
            "3444b19fe678482ebfdb07bc08cc6fa2",
            "a7cdd38e020a4525833b6dcf64e0925e",
            "43ffd58d550e42ea8aded5c55c86eb40",
            "c35452c7a6d347c7b3efb5b48b9ebb1d",
            "a3723ba5b2804dc0a5f4ae0edfd3689f",
            "08f4db80fe45417fb442f4f2107dc54e",
            "4532a55b7d854f5e8523c90fd78a5654",
            "716d8045a0144ed19eb13c7e40c5c2c2",
            "5b8d3cb65c1c479295a2eae79bded43b",
            "f38614d2f0f344d288dfa3ac8a010793"
          ]
        },
        "id": "0kYM7JOFV9IG",
        "outputId": "c40bc62c-ec4d-4e77-d194-6a4636d18181"
      },
      "execution_count": null,
      "outputs": [
        {
          "output_type": "display_data",
          "data": {
            "text/plain": [
              "Text(value='10*exp(x/2)*cos(2*x)-4', description='Función f(x):')"
            ],
            "application/vnd.jupyter.widget-view+json": {
              "version_major": 2,
              "version_minor": 0,
              "model_id": "9108d142a69047d282be5a32a2b30ba7"
            }
          },
          "metadata": {}
        },
        {
          "output_type": "display_data",
          "data": {
            "text/plain": [
              "Text(value='3', description='a:')"
            ],
            "application/vnd.jupyter.widget-view+json": {
              "version_major": 2,
              "version_minor": 0,
              "model_id": "23e3aabe2bec4bafac775a1b689236c9"
            }
          },
          "metadata": {}
        },
        {
          "output_type": "display_data",
          "data": {
            "text/plain": [
              "Text(value='5', description='b:')"
            ],
            "application/vnd.jupyter.widget-view+json": {
              "version_major": 2,
              "version_minor": 0,
              "model_id": "e0d079b8e94748e5bc42dd2145a6f42c"
            }
          },
          "metadata": {}
        },
        {
          "output_type": "display_data",
          "data": {
            "text/plain": [
              "Text(value='0.001', description='Tolerancia:')"
            ],
            "application/vnd.jupyter.widget-view+json": {
              "version_major": 2,
              "version_minor": 0,
              "model_id": "a7cdd38e020a4525833b6dcf64e0925e"
            }
          },
          "metadata": {}
        },
        {
          "output_type": "display_data",
          "data": {
            "text/plain": [
              "Text(value='50', description='Máx. Iteraciones:')"
            ],
            "application/vnd.jupyter.widget-view+json": {
              "version_major": 2,
              "version_minor": 0,
              "model_id": "a3723ba5b2804dc0a5f4ae0edfd3689f"
            }
          },
          "metadata": {}
        },
        {
          "output_type": "display_data",
          "data": {
            "text/plain": [
              "Button(description='Calcular', style=ButtonStyle())"
            ],
            "application/vnd.jupyter.widget-view+json": {
              "version_major": 2,
              "version_minor": 0,
              "model_id": "716d8045a0144ed19eb13c7e40c5c2c2"
            }
          },
          "metadata": {}
        },
        {
          "output_type": "display_data",
          "data": {
            "text/plain": [
              "<Figure size 1000x600 with 1 Axes>"
            ],
            "image/png": "[encoded data removed]"
          },
          "metadata": {}
        },
        {
          "output_type": "display_data",
          "data": {
            "text/plain": [
              "<IPython.core.display.HTML object>"
            ],
            "text/html": [
              "<table><tr><th>Iteración</th><th>a</th><th>b</th><th>c</th><th>f(c)</th></tr><tr><td>0</td><td>3.000000</td><td>5.000000</td><td>4.000000</td><td>-14.751079</td></tr><tr><td>1</td><td>3.000000</td><td>4.000000</td><td>3.500000</td><td>39.384079</td></tr><tr><td>2</td><td>3.500000</td><td>4.000000</td><td>3.750000</td><td>18.603462</td></tr><tr><td>3</td><td>3.750000</td><td>4.000000</td><td>3.875000</td><td>3.204756</td></tr><tr><td>4</td><td>3.875000</td><td>4.000000</td><td>3.937500</td><td>-5.505165</td></tr><tr><td>5</td><td>3.875000</td><td>3.937500</td><td>3.906250</td><td>-1.076099</td></tr><tr><td>6</td><td>3.875000</td><td>3.906250</td><td>3.890625</td><td>1.083688</td></tr><tr><td>7</td><td>3.890625</td><td>3.906250</td><td>3.898438</td><td>0.008533</td></tr><tr><td>8</td><td>3.898438</td><td>3.906250</td><td>3.902344</td><td>-0.532611</td></tr><tr><td>9</td><td>3.898438</td><td>3.902344</td><td>3.900391</td><td>-0.261745</td></tr><tr><td>10</td><td>3.898438</td><td>3.900391</td><td>3.899414</td><td>-0.126532</td></tr></table>"
            ]
          },
          "metadata": {}
        }
      ]
    },
    {
      "cell_type": "code",
      "source": [],
      "metadata": {
        "id": "ojiHOe-k0zTB"
      },
      "execution_count": null,
      "outputs": []
    }
  ]
}